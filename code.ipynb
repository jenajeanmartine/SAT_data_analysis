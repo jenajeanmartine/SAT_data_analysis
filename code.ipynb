{
 "cells": [
  {
   "cell_type": "markdown",
   "metadata": {},
   "source": [
    "# SAT & ACT Analysis - Where to Focus for Increasing Participation Rates"
   ]
  },
  {
   "cell_type": "markdown",
   "metadata": {},
   "source": [
    "### Contents:\n",
    "- [2017 Data Import & Cleaning](#2017-Data-Import-&-Cleaning)\n",
    "- [2018 Data Import & Cleaning](#2018-Data-Import-&-Cleaning)\n",
    "- [Exploratory Data Analysis](#Exploratory-Data-Analysis)\n",
    "- [Data Visualization](#Data-Visualization)\n",
    "- [Outside Research](#Outside-Research)\n",
    "- [Conclusions and Recommendations](#Conclusions-and-Recommendations)"
   ]
  },
  {
   "cell_type": "markdown",
   "metadata": {},
   "source": [
    "## Problem Statement"
   ]
  },
  {
   "cell_type": "markdown",
   "metadata": {},
   "source": [
    "The College Board, the non-profit which creates and administers the SAT, wants insights on how they might increase participation in the test among US students. The data available pertain to the SAT and also the ACT which is a competing assessment not administered by the College Board."
   ]
  },
  {
   "cell_type": "markdown",
   "metadata": {},
   "source": [
    "### Description of Data"
   ]
  },
  {
   "cell_type": "markdown",
   "metadata": {},
   "source": [
    "Available are four tables of data that outline the test scores and participation rates by state (plus Washington DC) of the SAT and the ACT for the years 2017 and 2018. Each of the four datasets have about 51 rows. Except for pertaining to the ACT 2017, the scores are broken down by subject, as well as given as totals/composites. Combined into one table, the data is as outlined in the data dictionary below.\n",
    "\n",
    "SAT 2017 range of possible scores: 400 - 1600 <br/>\n",
    "ACT 2017 range of possible scores: 1 - 36"
   ]
  },
  {
   "cell_type": "markdown",
   "metadata": {},
   "source": [
    "|Feature|Type|Dataset|Description|\n",
    "|---|---|---|---|\n",
    "|state|object|act_2017 & sat_2017|Includes all U.S. states and Washington D.C.|\n",
    "|participation_act17|float|act_2017|Percentage in decimal form of student participation in the ACT test.| \n",
    "|english_act17|float|act_2017|Average english score for the ACT (by state).| \n",
    "|math_act17|float|act_2017|Average math score for the ACT (by state).| \n",
    "|reading_act17|float|act_2017|Average reading score for the ACT (by state).| \n",
    "|science_act17|float|act_2017|Average science score for the ACT (by state).| \n",
    "|composite_act17|float|act_2017|Average total score (all other subtests added together).| \n",
    "|participation_sat17|float|sat_2017|Percentage in decimal form of student participation in the SAT test.| \n",
    "|language_sat17|int|sat_2017|Average evidence-based reading and writing score for the SAT (by state).| \n",
    "|math_sat17|int|sat_2017|Average math score for the SAT (by state).| \n",
    "|total_sat17|int|sat_2017|Average total score for the SAT (by state).| \n",
    "\n"
   ]
  },
  {
   "cell_type": "code",
   "execution_count": 3,
   "metadata": {},
   "outputs": [],
   "source": [
    "#Imports:\n",
    "import numpy as np\n",
    "import matplotlib.pyplot as plt\n",
    "import scipy.stats as stats\n",
    "import pandas as pd"
   ]
  },
  {
   "cell_type": "markdown",
   "metadata": {},
   "source": [
    "## 2017 Data Import & Cleaning"
   ]
  },
  {
   "cell_type": "markdown",
   "metadata": {},
   "source": [
    "#### Read In SAT & ACT  Data"
   ]
  },
  {
   "cell_type": "code",
   "execution_count": 4,
   "metadata": {},
   "outputs": [],
   "source": [
    "sat_2017 = pd.read_csv(\"../data/sat_2017.csv\")\n",
    "act_2017 = pd.read_csv(\"../data/act_2017.csv\")"
   ]
  },
  {
   "cell_type": "code",
   "execution_count": 5,
   "metadata": {},
   "outputs": [
    {
     "data": {
      "text/html": [
       "<div>\n",
       "<style scoped>\n",
       "    .dataframe tbody tr th:only-of-type {\n",
       "        vertical-align: middle;\n",
       "    }\n",
       "\n",
       "    .dataframe tbody tr th {\n",
       "        vertical-align: top;\n",
       "    }\n",
       "\n",
       "    .dataframe thead th {\n",
       "        text-align: right;\n",
       "    }\n",
       "</style>\n",
       "<table border=\"1\" class=\"dataframe\">\n",
       "  <thead>\n",
       "    <tr style=\"text-align: right;\">\n",
       "      <th></th>\n",
       "      <th>State</th>\n",
       "      <th>Participation</th>\n",
       "      <th>English</th>\n",
       "      <th>Math</th>\n",
       "      <th>Reading</th>\n",
       "      <th>Science</th>\n",
       "      <th>Composite</th>\n",
       "    </tr>\n",
       "  </thead>\n",
       "  <tbody>\n",
       "    <tr>\n",
       "      <th>0</th>\n",
       "      <td>National</td>\n",
       "      <td>60%</td>\n",
       "      <td>20.3</td>\n",
       "      <td>20.7</td>\n",
       "      <td>21.4</td>\n",
       "      <td>21.0</td>\n",
       "      <td>21.0</td>\n",
       "    </tr>\n",
       "    <tr>\n",
       "      <th>1</th>\n",
       "      <td>Alabama</td>\n",
       "      <td>100%</td>\n",
       "      <td>18.9</td>\n",
       "      <td>18.4</td>\n",
       "      <td>19.7</td>\n",
       "      <td>19.4</td>\n",
       "      <td>19.2</td>\n",
       "    </tr>\n",
       "    <tr>\n",
       "      <th>2</th>\n",
       "      <td>Alaska</td>\n",
       "      <td>65%</td>\n",
       "      <td>18.7</td>\n",
       "      <td>19.8</td>\n",
       "      <td>20.4</td>\n",
       "      <td>19.9</td>\n",
       "      <td>19.8</td>\n",
       "    </tr>\n",
       "    <tr>\n",
       "      <th>3</th>\n",
       "      <td>Arizona</td>\n",
       "      <td>62%</td>\n",
       "      <td>18.6</td>\n",
       "      <td>19.8</td>\n",
       "      <td>20.1</td>\n",
       "      <td>19.8</td>\n",
       "      <td>19.7</td>\n",
       "    </tr>\n",
       "    <tr>\n",
       "      <th>4</th>\n",
       "      <td>Arkansas</td>\n",
       "      <td>100%</td>\n",
       "      <td>18.9</td>\n",
       "      <td>19.0</td>\n",
       "      <td>19.7</td>\n",
       "      <td>19.5</td>\n",
       "      <td>19.4</td>\n",
       "    </tr>\n",
       "  </tbody>\n",
       "</table>\n",
       "</div>"
      ],
      "text/plain": [
       "      State Participation  English  Math  Reading  Science Composite\n",
       "0  National           60%     20.3  20.7     21.4     21.0      21.0\n",
       "1   Alabama          100%     18.9  18.4     19.7     19.4      19.2\n",
       "2    Alaska           65%     18.7  19.8     20.4     19.9      19.8\n",
       "3   Arizona           62%     18.6  19.8     20.1     19.8      19.7\n",
       "4  Arkansas          100%     18.9  19.0     19.7     19.5      19.4"
      ]
     },
     "execution_count": 5,
     "metadata": {},
     "output_type": "execute_result"
    }
   ],
   "source": [
    "act_2017.head()"
   ]
  },
  {
   "cell_type": "code",
   "execution_count": 6,
   "metadata": {},
   "outputs": [
    {
     "data": {
      "text/html": [
       "<div>\n",
       "<style scoped>\n",
       "    .dataframe tbody tr th:only-of-type {\n",
       "        vertical-align: middle;\n",
       "    }\n",
       "\n",
       "    .dataframe tbody tr th {\n",
       "        vertical-align: top;\n",
       "    }\n",
       "\n",
       "    .dataframe thead th {\n",
       "        text-align: right;\n",
       "    }\n",
       "</style>\n",
       "<table border=\"1\" class=\"dataframe\">\n",
       "  <thead>\n",
       "    <tr style=\"text-align: right;\">\n",
       "      <th></th>\n",
       "      <th>English</th>\n",
       "      <th>Math</th>\n",
       "      <th>Reading</th>\n",
       "      <th>Science</th>\n",
       "    </tr>\n",
       "  </thead>\n",
       "  <tbody>\n",
       "    <tr>\n",
       "      <th>count</th>\n",
       "      <td>52.00</td>\n",
       "      <td>52.00</td>\n",
       "      <td>52.00</td>\n",
       "      <td>52.00</td>\n",
       "    </tr>\n",
       "    <tr>\n",
       "      <th>mean</th>\n",
       "      <td>20.92</td>\n",
       "      <td>21.17</td>\n",
       "      <td>22.00</td>\n",
       "      <td>21.04</td>\n",
       "    </tr>\n",
       "    <tr>\n",
       "      <th>std</th>\n",
       "      <td>2.33</td>\n",
       "      <td>1.96</td>\n",
       "      <td>2.05</td>\n",
       "      <td>3.15</td>\n",
       "    </tr>\n",
       "    <tr>\n",
       "      <th>min</th>\n",
       "      <td>16.30</td>\n",
       "      <td>18.00</td>\n",
       "      <td>18.10</td>\n",
       "      <td>2.30</td>\n",
       "    </tr>\n",
       "    <tr>\n",
       "      <th>25%</th>\n",
       "      <td>19.00</td>\n",
       "      <td>19.40</td>\n",
       "      <td>20.48</td>\n",
       "      <td>19.90</td>\n",
       "    </tr>\n",
       "    <tr>\n",
       "      <th>50%</th>\n",
       "      <td>20.55</td>\n",
       "      <td>20.90</td>\n",
       "      <td>21.70</td>\n",
       "      <td>21.15</td>\n",
       "    </tr>\n",
       "    <tr>\n",
       "      <th>75%</th>\n",
       "      <td>23.30</td>\n",
       "      <td>23.10</td>\n",
       "      <td>24.13</td>\n",
       "      <td>22.52</td>\n",
       "    </tr>\n",
       "    <tr>\n",
       "      <th>max</th>\n",
       "      <td>25.50</td>\n",
       "      <td>25.30</td>\n",
       "      <td>26.00</td>\n",
       "      <td>24.90</td>\n",
       "    </tr>\n",
       "  </tbody>\n",
       "</table>\n",
       "</div>"
      ],
      "text/plain": [
       "       English   Math  Reading  Science\n",
       "count    52.00  52.00    52.00    52.00\n",
       "mean     20.92  21.17    22.00    21.04\n",
       "std       2.33   1.96     2.05     3.15\n",
       "min      16.30  18.00    18.10     2.30\n",
       "25%      19.00  19.40    20.48    19.90\n",
       "50%      20.55  20.90    21.70    21.15\n",
       "75%      23.30  23.10    24.13    22.52\n",
       "max      25.50  25.30    26.00    24.90"
      ]
     },
     "execution_count": 6,
     "metadata": {},
     "output_type": "execute_result"
    }
   ],
   "source": [
    "act_2017.describe().round(2)"
   ]
  },
  {
   "cell_type": "code",
   "execution_count": 7,
   "metadata": {},
   "outputs": [
    {
     "data": {
      "text/html": [
       "<div>\n",
       "<style scoped>\n",
       "    .dataframe tbody tr th:only-of-type {\n",
       "        vertical-align: middle;\n",
       "    }\n",
       "\n",
       "    .dataframe tbody tr th {\n",
       "        vertical-align: top;\n",
       "    }\n",
       "\n",
       "    .dataframe thead th {\n",
       "        text-align: right;\n",
       "    }\n",
       "</style>\n",
       "<table border=\"1\" class=\"dataframe\">\n",
       "  <thead>\n",
       "    <tr style=\"text-align: right;\">\n",
       "      <th></th>\n",
       "      <th>State</th>\n",
       "      <th>Participation</th>\n",
       "      <th>Evidence-Based Reading and Writing</th>\n",
       "      <th>Math</th>\n",
       "      <th>Total</th>\n",
       "    </tr>\n",
       "  </thead>\n",
       "  <tbody>\n",
       "    <tr>\n",
       "      <th>0</th>\n",
       "      <td>Alabama</td>\n",
       "      <td>5%</td>\n",
       "      <td>593</td>\n",
       "      <td>572</td>\n",
       "      <td>1165</td>\n",
       "    </tr>\n",
       "    <tr>\n",
       "      <th>1</th>\n",
       "      <td>Alaska</td>\n",
       "      <td>38%</td>\n",
       "      <td>547</td>\n",
       "      <td>533</td>\n",
       "      <td>1080</td>\n",
       "    </tr>\n",
       "    <tr>\n",
       "      <th>2</th>\n",
       "      <td>Arizona</td>\n",
       "      <td>30%</td>\n",
       "      <td>563</td>\n",
       "      <td>553</td>\n",
       "      <td>1116</td>\n",
       "    </tr>\n",
       "    <tr>\n",
       "      <th>3</th>\n",
       "      <td>Arkansas</td>\n",
       "      <td>3%</td>\n",
       "      <td>614</td>\n",
       "      <td>594</td>\n",
       "      <td>1208</td>\n",
       "    </tr>\n",
       "    <tr>\n",
       "      <th>4</th>\n",
       "      <td>California</td>\n",
       "      <td>53%</td>\n",
       "      <td>531</td>\n",
       "      <td>524</td>\n",
       "      <td>1055</td>\n",
       "    </tr>\n",
       "  </tbody>\n",
       "</table>\n",
       "</div>"
      ],
      "text/plain": [
       "        State Participation  Evidence-Based Reading and Writing  Math  Total\n",
       "0     Alabama            5%                                 593   572   1165\n",
       "1      Alaska           38%                                 547   533   1080\n",
       "2     Arizona           30%                                 563   553   1116\n",
       "3    Arkansas            3%                                 614   594   1208\n",
       "4  California           53%                                 531   524   1055"
      ]
     },
     "execution_count": 7,
     "metadata": {},
     "output_type": "execute_result"
    }
   ],
   "source": [
    "sat_2017.head()"
   ]
  },
  {
   "cell_type": "code",
   "execution_count": 8,
   "metadata": {},
   "outputs": [
    {
     "data": {
      "text/html": [
       "<div>\n",
       "<style scoped>\n",
       "    .dataframe tbody tr th:only-of-type {\n",
       "        vertical-align: middle;\n",
       "    }\n",
       "\n",
       "    .dataframe tbody tr th {\n",
       "        vertical-align: top;\n",
       "    }\n",
       "\n",
       "    .dataframe thead th {\n",
       "        text-align: right;\n",
       "    }\n",
       "</style>\n",
       "<table border=\"1\" class=\"dataframe\">\n",
       "  <thead>\n",
       "    <tr style=\"text-align: right;\">\n",
       "      <th></th>\n",
       "      <th>Evidence-Based Reading and Writing</th>\n",
       "      <th>Math</th>\n",
       "      <th>Total</th>\n",
       "    </tr>\n",
       "  </thead>\n",
       "  <tbody>\n",
       "    <tr>\n",
       "      <th>count</th>\n",
       "      <td>51.00</td>\n",
       "      <td>51.00</td>\n",
       "      <td>51.00</td>\n",
       "    </tr>\n",
       "    <tr>\n",
       "      <th>mean</th>\n",
       "      <td>569.12</td>\n",
       "      <td>547.63</td>\n",
       "      <td>1126.10</td>\n",
       "    </tr>\n",
       "    <tr>\n",
       "      <th>std</th>\n",
       "      <td>45.67</td>\n",
       "      <td>84.91</td>\n",
       "      <td>92.49</td>\n",
       "    </tr>\n",
       "    <tr>\n",
       "      <th>min</th>\n",
       "      <td>482.00</td>\n",
       "      <td>52.00</td>\n",
       "      <td>950.00</td>\n",
       "    </tr>\n",
       "    <tr>\n",
       "      <th>25%</th>\n",
       "      <td>533.50</td>\n",
       "      <td>522.00</td>\n",
       "      <td>1055.50</td>\n",
       "    </tr>\n",
       "    <tr>\n",
       "      <th>50%</th>\n",
       "      <td>559.00</td>\n",
       "      <td>548.00</td>\n",
       "      <td>1107.00</td>\n",
       "    </tr>\n",
       "    <tr>\n",
       "      <th>75%</th>\n",
       "      <td>613.00</td>\n",
       "      <td>599.00</td>\n",
       "      <td>1212.00</td>\n",
       "    </tr>\n",
       "    <tr>\n",
       "      <th>max</th>\n",
       "      <td>644.00</td>\n",
       "      <td>651.00</td>\n",
       "      <td>1295.00</td>\n",
       "    </tr>\n",
       "  </tbody>\n",
       "</table>\n",
       "</div>"
      ],
      "text/plain": [
       "       Evidence-Based Reading and Writing    Math    Total\n",
       "count                               51.00   51.00    51.00\n",
       "mean                               569.12  547.63  1126.10\n",
       "std                                 45.67   84.91    92.49\n",
       "min                                482.00   52.00   950.00\n",
       "25%                                533.50  522.00  1055.50\n",
       "50%                                559.00  548.00  1107.00\n",
       "75%                                613.00  599.00  1212.00\n",
       "max                                644.00  651.00  1295.00"
      ]
     },
     "execution_count": 8,
     "metadata": {},
     "output_type": "execute_result"
    }
   ],
   "source": [
    "sat_2017.describe().round(2)"
   ]
  },
  {
   "cell_type": "code",
   "execution_count": 9,
   "metadata": {},
   "outputs": [
    {
     "data": {
      "text/plain": [
       "State             object\n",
       "Participation     object\n",
       "English          float64\n",
       "Math             float64\n",
       "Reading          float64\n",
       "Science          float64\n",
       "Composite         object\n",
       "dtype: object"
      ]
     },
     "execution_count": 9,
     "metadata": {},
     "output_type": "execute_result"
    }
   ],
   "source": [
    "act_2017.dtypes"
   ]
  },
  {
   "cell_type": "code",
   "execution_count": 10,
   "metadata": {},
   "outputs": [
    {
     "data": {
      "text/plain": [
       "State                                 object\n",
       "Participation                         object\n",
       "Evidence-Based Reading and Writing     int64\n",
       "Math                                   int64\n",
       "Total                                  int64\n",
       "dtype: object"
      ]
     },
     "execution_count": 10,
     "metadata": {},
     "output_type": "execute_result"
    }
   ],
   "source": [
    "sat_2017.dtypes"
   ]
  },
  {
   "cell_type": "code",
   "execution_count": 11,
   "metadata": {},
   "outputs": [],
   "source": [
    "sat_2017.at[20,'Math'] = 530 \n",
    "act_2017.at[21,'Science'] = 23.1 \n",
    "\n",
    "#https://news.maryland.gov/msde/new-sat-sets-baseline-act-scores-rise-in-maryland/\n",
    "#https://reports.collegeboard.org/pdf/2017-maryland-sat-suite-assessments-annual-report.pdf"
   ]
  },
  {
   "cell_type": "code",
   "execution_count": 12,
   "metadata": {},
   "outputs": [
    {
     "data": {
      "text/plain": [
       "State             object\n",
       "Participation     object\n",
       "English          float64\n",
       "Math             float64\n",
       "Reading          float64\n",
       "Science          float64\n",
       "Composite         object\n",
       "dtype: object"
      ]
     },
     "execution_count": 12,
     "metadata": {},
     "output_type": "execute_result"
    }
   ],
   "source": [
    "sat_2017.dtypes\n",
    "act_2017.dtypes"
   ]
  },
  {
   "cell_type": "markdown",
   "metadata": {},
   "source": [
    "#### Fix Incorrect Data Types"
   ]
  },
  {
   "cell_type": "code",
   "execution_count": 13,
   "metadata": {},
   "outputs": [],
   "source": [
    "#Change percentages from objects to floats\n",
    "sat_2017['Participation'] = sat_2017['Participation'].map(lambda x: int(x[:-1])/100)\n",
    "act_2017['Participation'] = act_2017['Participation'].map(lambda x: int(x[:-1])/100)"
   ]
  },
  {
   "cell_type": "code",
   "execution_count": 14,
   "metadata": {},
   "outputs": [],
   "source": [
    "# fix one corrupt value and change dtype of \"Composite\" column to float\n",
    "act_2017.at[51, \"Composite\"] = act_2017.at[51, \"Composite\"].strip(\"x\")\n",
    "act_2017['Composite'] = act_2017['Composite'].map(lambda x: float(x))"
   ]
  },
  {
   "cell_type": "code",
   "execution_count": 1,
   "metadata": {},
   "outputs": [
    {
     "ename": "NameError",
     "evalue": "name 'act_2017' is not defined",
     "output_type": "error",
     "traceback": [
      "\u001b[0;31m---------------------------------------------------------------------------\u001b[0m",
      "\u001b[0;31mNameError\u001b[0m                                 Traceback (most recent call last)",
      "\u001b[0;32m<ipython-input-1-c06d67b8040e>\u001b[0m in \u001b[0;36m<module>\u001b[0;34m\u001b[0m\n\u001b[0;32m----> 1\u001b[0;31m \u001b[0mact_2017\u001b[0m\u001b[0;34m[\u001b[0m\u001b[0;34m'Composite'\u001b[0m\u001b[0;34m]\u001b[0m\u001b[0;34m[\u001b[0m\u001b[0;36m51\u001b[0m\u001b[0;34m]\u001b[0m\u001b[0;34m\u001b[0m\u001b[0;34m\u001b[0m\u001b[0m\n\u001b[0m",
      "\u001b[0;31mNameError\u001b[0m: name 'act_2017' is not defined"
     ]
    }
   ],
   "source": [
    "act_2017['Composite'][51]"
   ]
  },
  {
   "cell_type": "code",
   "execution_count": 16,
   "metadata": {},
   "outputs": [
    {
     "data": {
      "text/plain": [
       "State             object\n",
       "Participation    float64\n",
       "English          float64\n",
       "Math             float64\n",
       "Reading          float64\n",
       "Science          float64\n",
       "Composite        float64\n",
       "dtype: object"
      ]
     },
     "execution_count": 16,
     "metadata": {},
     "output_type": "execute_result"
    }
   ],
   "source": [
    "act_2017.dtypes"
   ]
  },
  {
   "cell_type": "markdown",
   "metadata": {},
   "source": [
    "#### Rename Columns"
   ]
  },
  {
   "cell_type": "code",
   "execution_count": 17,
   "metadata": {},
   "outputs": [
    {
     "data": {
      "text/plain": [
       "state                   object\n",
       "participation_sat17    float64\n",
       "language_sat17           int64\n",
       "math_sat17               int64\n",
       "total_sat17              int64\n",
       "dtype: object"
      ]
     },
     "execution_count": 17,
     "metadata": {},
     "output_type": "execute_result"
    }
   ],
   "source": [
    "labels_act = {'State':'state',\n",
    " 'Participation':'participation_act17',\n",
    " 'English':'english_act17',\n",
    " 'Math':'math_act17',\n",
    " 'Reading':'reading_act17',\n",
    " 'Science':'science_act17',           \n",
    " 'Composite':'composite_act17'}\n",
    "labels_sat = {'State':'state',\n",
    " 'Participation':'participation_sat17',\n",
    " 'Evidence-Based Reading and Writing':'language_sat17',\n",
    " 'Math':'math_sat17',\n",
    " 'Total':'total_sat17'}\n",
    "act_2017.rename(columns=labels_act, inplace=True)\n",
    "sat_2017.rename(columns=labels_sat, inplace=True)\n",
    "sat_2017.dtypes"
   ]
  },
  {
   "cell_type": "markdown",
   "metadata": {},
   "source": [
    "#### Drop unnecessary rows"
   ]
  },
  {
   "cell_type": "code",
   "execution_count": 18,
   "metadata": {},
   "outputs": [
    {
     "data": {
      "text/html": [
       "<div>\n",
       "<style scoped>\n",
       "    .dataframe tbody tr th:only-of-type {\n",
       "        vertical-align: middle;\n",
       "    }\n",
       "\n",
       "    .dataframe tbody tr th {\n",
       "        vertical-align: top;\n",
       "    }\n",
       "\n",
       "    .dataframe thead th {\n",
       "        text-align: right;\n",
       "    }\n",
       "</style>\n",
       "<table border=\"1\" class=\"dataframe\">\n",
       "  <thead>\n",
       "    <tr style=\"text-align: right;\">\n",
       "      <th></th>\n",
       "      <th>state</th>\n",
       "      <th>participation_act17</th>\n",
       "      <th>english_act17</th>\n",
       "      <th>math_act17</th>\n",
       "      <th>reading_act17</th>\n",
       "      <th>science_act17</th>\n",
       "      <th>composite_act17</th>\n",
       "    </tr>\n",
       "  </thead>\n",
       "  <tbody>\n",
       "    <tr>\n",
       "      <th>1</th>\n",
       "      <td>Alabama</td>\n",
       "      <td>1.00</td>\n",
       "      <td>18.9</td>\n",
       "      <td>18.4</td>\n",
       "      <td>19.7</td>\n",
       "      <td>19.4</td>\n",
       "      <td>19.2</td>\n",
       "    </tr>\n",
       "    <tr>\n",
       "      <th>2</th>\n",
       "      <td>Alaska</td>\n",
       "      <td>0.65</td>\n",
       "      <td>18.7</td>\n",
       "      <td>19.8</td>\n",
       "      <td>20.4</td>\n",
       "      <td>19.9</td>\n",
       "      <td>19.8</td>\n",
       "    </tr>\n",
       "    <tr>\n",
       "      <th>3</th>\n",
       "      <td>Arizona</td>\n",
       "      <td>0.62</td>\n",
       "      <td>18.6</td>\n",
       "      <td>19.8</td>\n",
       "      <td>20.1</td>\n",
       "      <td>19.8</td>\n",
       "      <td>19.7</td>\n",
       "    </tr>\n",
       "    <tr>\n",
       "      <th>4</th>\n",
       "      <td>Arkansas</td>\n",
       "      <td>1.00</td>\n",
       "      <td>18.9</td>\n",
       "      <td>19.0</td>\n",
       "      <td>19.7</td>\n",
       "      <td>19.5</td>\n",
       "      <td>19.4</td>\n",
       "    </tr>\n",
       "    <tr>\n",
       "      <th>5</th>\n",
       "      <td>California</td>\n",
       "      <td>0.31</td>\n",
       "      <td>22.5</td>\n",
       "      <td>22.7</td>\n",
       "      <td>23.1</td>\n",
       "      <td>22.2</td>\n",
       "      <td>22.8</td>\n",
       "    </tr>\n",
       "  </tbody>\n",
       "</table>\n",
       "</div>"
      ],
      "text/plain": [
       "        state  participation_act17  english_act17  math_act17  reading_act17  \\\n",
       "1     Alabama                 1.00           18.9        18.4           19.7   \n",
       "2      Alaska                 0.65           18.7        19.8           20.4   \n",
       "3     Arizona                 0.62           18.6        19.8           20.1   \n",
       "4    Arkansas                 1.00           18.9        19.0           19.7   \n",
       "5  California                 0.31           22.5        22.7           23.1   \n",
       "\n",
       "   science_act17  composite_act17  \n",
       "1           19.4             19.2  \n",
       "2           19.9             19.8  \n",
       "3           19.8             19.7  \n",
       "4           19.5             19.4  \n",
       "5           22.2             22.8  "
      ]
     },
     "execution_count": 18,
     "metadata": {},
     "output_type": "execute_result"
    }
   ],
   "source": [
    "act_2017.drop(labels=[0], inplace=True)\n",
    "act_2017.head()"
   ]
  },
  {
   "cell_type": "code",
   "execution_count": 19,
   "metadata": {},
   "outputs": [],
   "source": [
    "tests_2017 = pd.merge(act_2017, sat_2017, on=\"state\")"
   ]
  },
  {
   "cell_type": "code",
   "execution_count": 20,
   "metadata": {},
   "outputs": [],
   "source": [
    "#example cars.loc[cars['mpg'] > 30, :].to_csv('output/efficient-cars.csv', index=False)\n",
    "tests_2017.to_csv('combined_2017.csv')"
   ]
  },
  {
   "cell_type": "markdown",
   "metadata": {},
   "source": [
    "## 2018 Data Import & Cleaning"
   ]
  },
  {
   "cell_type": "code",
   "execution_count": 21,
   "metadata": {},
   "outputs": [],
   "source": [
    "sat_2018 = pd.read_csv(\"../data/sat_2018.csv\")\n",
    "act_2018 = pd.read_csv(\"../data/act_2018.csv\")"
   ]
  },
  {
   "cell_type": "code",
   "execution_count": 22,
   "metadata": {},
   "outputs": [
    {
     "data": {
      "text/html": [
       "<div>\n",
       "<style scoped>\n",
       "    .dataframe tbody tr th:only-of-type {\n",
       "        vertical-align: middle;\n",
       "    }\n",
       "\n",
       "    .dataframe tbody tr th {\n",
       "        vertical-align: top;\n",
       "    }\n",
       "\n",
       "    .dataframe thead th {\n",
       "        text-align: right;\n",
       "    }\n",
       "</style>\n",
       "<table border=\"1\" class=\"dataframe\">\n",
       "  <thead>\n",
       "    <tr style=\"text-align: right;\">\n",
       "      <th></th>\n",
       "      <th>State</th>\n",
       "      <th>Participation</th>\n",
       "      <th>Composite</th>\n",
       "    </tr>\n",
       "  </thead>\n",
       "  <tbody>\n",
       "    <tr>\n",
       "      <th>0</th>\n",
       "      <td>Alabama</td>\n",
       "      <td>100%</td>\n",
       "      <td>19.1</td>\n",
       "    </tr>\n",
       "    <tr>\n",
       "      <th>1</th>\n",
       "      <td>Alaska</td>\n",
       "      <td>33%</td>\n",
       "      <td>20.8</td>\n",
       "    </tr>\n",
       "    <tr>\n",
       "      <th>2</th>\n",
       "      <td>Arizona</td>\n",
       "      <td>66%</td>\n",
       "      <td>19.2</td>\n",
       "    </tr>\n",
       "    <tr>\n",
       "      <th>3</th>\n",
       "      <td>Arkansas</td>\n",
       "      <td>100%</td>\n",
       "      <td>19.4</td>\n",
       "    </tr>\n",
       "    <tr>\n",
       "      <th>4</th>\n",
       "      <td>California</td>\n",
       "      <td>27%</td>\n",
       "      <td>22.7</td>\n",
       "    </tr>\n",
       "  </tbody>\n",
       "</table>\n",
       "</div>"
      ],
      "text/plain": [
       "        State Participation  Composite\n",
       "0     Alabama          100%       19.1\n",
       "1      Alaska           33%       20.8\n",
       "2     Arizona           66%       19.2\n",
       "3    Arkansas          100%       19.4\n",
       "4  California           27%       22.7"
      ]
     },
     "execution_count": 22,
     "metadata": {},
     "output_type": "execute_result"
    }
   ],
   "source": [
    "act_2018.head()"
   ]
  },
  {
   "cell_type": "code",
   "execution_count": 23,
   "metadata": {},
   "outputs": [
    {
     "data": {
      "text/html": [
       "<div>\n",
       "<style scoped>\n",
       "    .dataframe tbody tr th:only-of-type {\n",
       "        vertical-align: middle;\n",
       "    }\n",
       "\n",
       "    .dataframe tbody tr th {\n",
       "        vertical-align: top;\n",
       "    }\n",
       "\n",
       "    .dataframe thead th {\n",
       "        text-align: right;\n",
       "    }\n",
       "</style>\n",
       "<table border=\"1\" class=\"dataframe\">\n",
       "  <thead>\n",
       "    <tr style=\"text-align: right;\">\n",
       "      <th></th>\n",
       "      <th>Composite</th>\n",
       "    </tr>\n",
       "  </thead>\n",
       "  <tbody>\n",
       "    <tr>\n",
       "      <th>count</th>\n",
       "      <td>52.000000</td>\n",
       "    </tr>\n",
       "    <tr>\n",
       "      <th>mean</th>\n",
       "      <td>21.544231</td>\n",
       "    </tr>\n",
       "    <tr>\n",
       "      <th>std</th>\n",
       "      <td>2.119417</td>\n",
       "    </tr>\n",
       "    <tr>\n",
       "      <th>min</th>\n",
       "      <td>17.700000</td>\n",
       "    </tr>\n",
       "    <tr>\n",
       "      <th>25%</th>\n",
       "      <td>19.975000</td>\n",
       "    </tr>\n",
       "    <tr>\n",
       "      <th>50%</th>\n",
       "      <td>21.300000</td>\n",
       "    </tr>\n",
       "    <tr>\n",
       "      <th>75%</th>\n",
       "      <td>23.725000</td>\n",
       "    </tr>\n",
       "    <tr>\n",
       "      <th>max</th>\n",
       "      <td>25.600000</td>\n",
       "    </tr>\n",
       "  </tbody>\n",
       "</table>\n",
       "</div>"
      ],
      "text/plain": [
       "       Composite\n",
       "count  52.000000\n",
       "mean   21.544231\n",
       "std     2.119417\n",
       "min    17.700000\n",
       "25%    19.975000\n",
       "50%    21.300000\n",
       "75%    23.725000\n",
       "max    25.600000"
      ]
     },
     "execution_count": 23,
     "metadata": {},
     "output_type": "execute_result"
    }
   ],
   "source": [
    "act_2018.describe()"
   ]
  },
  {
   "cell_type": "code",
   "execution_count": 24,
   "metadata": {},
   "outputs": [
    {
     "data": {
      "text/plain": [
       "State             object\n",
       "Participation     object\n",
       "Composite        float64\n",
       "dtype: object"
      ]
     },
     "execution_count": 24,
     "metadata": {},
     "output_type": "execute_result"
    }
   ],
   "source": [
    "act_2018.dtypes"
   ]
  },
  {
   "cell_type": "code",
   "execution_count": 25,
   "metadata": {},
   "outputs": [
    {
     "data": {
      "text/html": [
       "<div>\n",
       "<style scoped>\n",
       "    .dataframe tbody tr th:only-of-type {\n",
       "        vertical-align: middle;\n",
       "    }\n",
       "\n",
       "    .dataframe tbody tr th {\n",
       "        vertical-align: top;\n",
       "    }\n",
       "\n",
       "    .dataframe thead th {\n",
       "        text-align: right;\n",
       "    }\n",
       "</style>\n",
       "<table border=\"1\" class=\"dataframe\">\n",
       "  <thead>\n",
       "    <tr style=\"text-align: right;\">\n",
       "      <th></th>\n",
       "      <th>State</th>\n",
       "      <th>Participation</th>\n",
       "      <th>Evidence-Based Reading and Writing</th>\n",
       "      <th>Math</th>\n",
       "      <th>Total</th>\n",
       "    </tr>\n",
       "  </thead>\n",
       "  <tbody>\n",
       "    <tr>\n",
       "      <th>0</th>\n",
       "      <td>Alabama</td>\n",
       "      <td>6%</td>\n",
       "      <td>595</td>\n",
       "      <td>571</td>\n",
       "      <td>1166</td>\n",
       "    </tr>\n",
       "    <tr>\n",
       "      <th>1</th>\n",
       "      <td>Alaska</td>\n",
       "      <td>43%</td>\n",
       "      <td>562</td>\n",
       "      <td>544</td>\n",
       "      <td>1106</td>\n",
       "    </tr>\n",
       "    <tr>\n",
       "      <th>2</th>\n",
       "      <td>Arizona</td>\n",
       "      <td>29%</td>\n",
       "      <td>577</td>\n",
       "      <td>572</td>\n",
       "      <td>1149</td>\n",
       "    </tr>\n",
       "    <tr>\n",
       "      <th>3</th>\n",
       "      <td>Arkansas</td>\n",
       "      <td>5%</td>\n",
       "      <td>592</td>\n",
       "      <td>576</td>\n",
       "      <td>1169</td>\n",
       "    </tr>\n",
       "    <tr>\n",
       "      <th>4</th>\n",
       "      <td>California</td>\n",
       "      <td>60%</td>\n",
       "      <td>540</td>\n",
       "      <td>536</td>\n",
       "      <td>1076</td>\n",
       "    </tr>\n",
       "  </tbody>\n",
       "</table>\n",
       "</div>"
      ],
      "text/plain": [
       "        State Participation  Evidence-Based Reading and Writing  Math  Total\n",
       "0     Alabama            6%                                 595   571   1166\n",
       "1      Alaska           43%                                 562   544   1106\n",
       "2     Arizona           29%                                 577   572   1149\n",
       "3    Arkansas            5%                                 592   576   1169\n",
       "4  California           60%                                 540   536   1076"
      ]
     },
     "execution_count": 25,
     "metadata": {},
     "output_type": "execute_result"
    }
   ],
   "source": [
    "sat_2018.head()"
   ]
  },
  {
   "cell_type": "code",
   "execution_count": 26,
   "metadata": {},
   "outputs": [
    {
     "data": {
      "text/html": [
       "<div>\n",
       "<style scoped>\n",
       "    .dataframe tbody tr th:only-of-type {\n",
       "        vertical-align: middle;\n",
       "    }\n",
       "\n",
       "    .dataframe tbody tr th {\n",
       "        vertical-align: top;\n",
       "    }\n",
       "\n",
       "    .dataframe thead th {\n",
       "        text-align: right;\n",
       "    }\n",
       "</style>\n",
       "<table border=\"1\" class=\"dataframe\">\n",
       "  <thead>\n",
       "    <tr style=\"text-align: right;\">\n",
       "      <th></th>\n",
       "      <th>Evidence-Based Reading and Writing</th>\n",
       "      <th>Math</th>\n",
       "      <th>Total</th>\n",
       "    </tr>\n",
       "  </thead>\n",
       "  <tbody>\n",
       "    <tr>\n",
       "      <th>count</th>\n",
       "      <td>51.000000</td>\n",
       "      <td>51.000000</td>\n",
       "      <td>51.000000</td>\n",
       "    </tr>\n",
       "    <tr>\n",
       "      <th>mean</th>\n",
       "      <td>563.686275</td>\n",
       "      <td>556.235294</td>\n",
       "      <td>1120.019608</td>\n",
       "    </tr>\n",
       "    <tr>\n",
       "      <th>std</th>\n",
       "      <td>47.502627</td>\n",
       "      <td>47.772623</td>\n",
       "      <td>94.155083</td>\n",
       "    </tr>\n",
       "    <tr>\n",
       "      <th>min</th>\n",
       "      <td>480.000000</td>\n",
       "      <td>480.000000</td>\n",
       "      <td>977.000000</td>\n",
       "    </tr>\n",
       "    <tr>\n",
       "      <th>25%</th>\n",
       "      <td>534.500000</td>\n",
       "      <td>522.500000</td>\n",
       "      <td>1057.500000</td>\n",
       "    </tr>\n",
       "    <tr>\n",
       "      <th>50%</th>\n",
       "      <td>552.000000</td>\n",
       "      <td>544.000000</td>\n",
       "      <td>1098.000000</td>\n",
       "    </tr>\n",
       "    <tr>\n",
       "      <th>75%</th>\n",
       "      <td>610.500000</td>\n",
       "      <td>593.500000</td>\n",
       "      <td>1204.000000</td>\n",
       "    </tr>\n",
       "    <tr>\n",
       "      <th>max</th>\n",
       "      <td>643.000000</td>\n",
       "      <td>655.000000</td>\n",
       "      <td>1298.000000</td>\n",
       "    </tr>\n",
       "  </tbody>\n",
       "</table>\n",
       "</div>"
      ],
      "text/plain": [
       "       Evidence-Based Reading and Writing        Math        Total\n",
       "count                           51.000000   51.000000    51.000000\n",
       "mean                           563.686275  556.235294  1120.019608\n",
       "std                             47.502627   47.772623    94.155083\n",
       "min                            480.000000  480.000000   977.000000\n",
       "25%                            534.500000  522.500000  1057.500000\n",
       "50%                            552.000000  544.000000  1098.000000\n",
       "75%                            610.500000  593.500000  1204.000000\n",
       "max                            643.000000  655.000000  1298.000000"
      ]
     },
     "execution_count": 26,
     "metadata": {},
     "output_type": "execute_result"
    }
   ],
   "source": [
    "sat_2018.describe()"
   ]
  },
  {
   "cell_type": "code",
   "execution_count": 27,
   "metadata": {},
   "outputs": [
    {
     "data": {
      "text/plain": [
       "State                                 object\n",
       "Participation                         object\n",
       "Evidence-Based Reading and Writing     int64\n",
       "Math                                   int64\n",
       "Total                                  int64\n",
       "dtype: object"
      ]
     },
     "execution_count": 27,
     "metadata": {},
     "output_type": "execute_result"
    }
   ],
   "source": [
    "sat_2018.dtypes"
   ]
  },
  {
   "cell_type": "code",
   "execution_count": 28,
   "metadata": {},
   "outputs": [],
   "source": [
    "#rename columns\n",
    "labels_act_18 = {'State':'state',\n",
    " 'Participation':'participation_act18',           \n",
    " 'Composite':'composite_act18'}\n",
    "labels_sat_18 = {'State':'state',\n",
    " 'Participation':'participation_sat18',\n",
    " 'Evidence-Based Reading and Writing':'language_sat18',\n",
    " 'Math':'math_sat18',\n",
    " 'Total':'total_sat18'}\n",
    "act_2018.rename(columns=labels_act_18, inplace=True)\n",
    "sat_2018.rename(columns=labels_sat_18, inplace=True)"
   ]
  },
  {
   "cell_type": "code",
   "execution_count": 29,
   "metadata": {},
   "outputs": [],
   "source": [
    "#convert participation column type from object to float (decimal form percentage)\n",
    "sat_2018['participation_sat18'] = sat_2018['participation_sat18'].map(lambda x: int(x.strip('%'))/100)\n",
    "act_2018['participation_act18'] = act_2018['participation_act18'].map(lambda x: int(x.strip('%'))/100)"
   ]
  },
  {
   "cell_type": "code",
   "execution_count": 30,
   "metadata": {},
   "outputs": [],
   "source": [
    "#remove duplicate row in ACT 2018 data\n",
    "act_2018.drop(labels=[20], inplace=True)"
   ]
  },
  {
   "cell_type": "code",
   "execution_count": 31,
   "metadata": {},
   "outputs": [
    {
     "data": {
      "text/html": [
       "<div>\n",
       "<style scoped>\n",
       "    .dataframe tbody tr th:only-of-type {\n",
       "        vertical-align: middle;\n",
       "    }\n",
       "\n",
       "    .dataframe tbody tr th {\n",
       "        vertical-align: top;\n",
       "    }\n",
       "\n",
       "    .dataframe thead th {\n",
       "        text-align: right;\n",
       "    }\n",
       "</style>\n",
       "<table border=\"1\" class=\"dataframe\">\n",
       "  <thead>\n",
       "    <tr style=\"text-align: right;\">\n",
       "      <th></th>\n",
       "      <th>state</th>\n",
       "      <th>participation_act18</th>\n",
       "      <th>composite_act18</th>\n",
       "    </tr>\n",
       "  </thead>\n",
       "  <tbody>\n",
       "    <tr>\n",
       "      <th>0</th>\n",
       "      <td>Alabama</td>\n",
       "      <td>1.00</td>\n",
       "      <td>19.1</td>\n",
       "    </tr>\n",
       "    <tr>\n",
       "      <th>1</th>\n",
       "      <td>Alaska</td>\n",
       "      <td>0.33</td>\n",
       "      <td>20.8</td>\n",
       "    </tr>\n",
       "    <tr>\n",
       "      <th>2</th>\n",
       "      <td>Arizona</td>\n",
       "      <td>0.66</td>\n",
       "      <td>19.2</td>\n",
       "    </tr>\n",
       "    <tr>\n",
       "      <th>3</th>\n",
       "      <td>Arkansas</td>\n",
       "      <td>1.00</td>\n",
       "      <td>19.4</td>\n",
       "    </tr>\n",
       "    <tr>\n",
       "      <th>4</th>\n",
       "      <td>California</td>\n",
       "      <td>0.27</td>\n",
       "      <td>22.7</td>\n",
       "    </tr>\n",
       "    <tr>\n",
       "      <th>5</th>\n",
       "      <td>Colorado</td>\n",
       "      <td>0.30</td>\n",
       "      <td>23.9</td>\n",
       "    </tr>\n",
       "    <tr>\n",
       "      <th>6</th>\n",
       "      <td>Connecticut</td>\n",
       "      <td>0.26</td>\n",
       "      <td>25.6</td>\n",
       "    </tr>\n",
       "    <tr>\n",
       "      <th>7</th>\n",
       "      <td>Delaware</td>\n",
       "      <td>0.17</td>\n",
       "      <td>23.8</td>\n",
       "    </tr>\n",
       "    <tr>\n",
       "      <th>8</th>\n",
       "      <td>District of columbia</td>\n",
       "      <td>0.32</td>\n",
       "      <td>23.6</td>\n",
       "    </tr>\n",
       "    <tr>\n",
       "      <th>9</th>\n",
       "      <td>Florida</td>\n",
       "      <td>0.66</td>\n",
       "      <td>19.9</td>\n",
       "    </tr>\n",
       "    <tr>\n",
       "      <th>10</th>\n",
       "      <td>Georgia</td>\n",
       "      <td>0.53</td>\n",
       "      <td>21.4</td>\n",
       "    </tr>\n",
       "    <tr>\n",
       "      <th>11</th>\n",
       "      <td>Hawaii</td>\n",
       "      <td>0.89</td>\n",
       "      <td>18.9</td>\n",
       "    </tr>\n",
       "    <tr>\n",
       "      <th>12</th>\n",
       "      <td>Idaho</td>\n",
       "      <td>0.36</td>\n",
       "      <td>22.3</td>\n",
       "    </tr>\n",
       "    <tr>\n",
       "      <th>13</th>\n",
       "      <td>Illinois</td>\n",
       "      <td>0.43</td>\n",
       "      <td>23.9</td>\n",
       "    </tr>\n",
       "    <tr>\n",
       "      <th>14</th>\n",
       "      <td>Indiana</td>\n",
       "      <td>0.32</td>\n",
       "      <td>22.5</td>\n",
       "    </tr>\n",
       "    <tr>\n",
       "      <th>15</th>\n",
       "      <td>Iowa</td>\n",
       "      <td>0.68</td>\n",
       "      <td>21.8</td>\n",
       "    </tr>\n",
       "    <tr>\n",
       "      <th>16</th>\n",
       "      <td>Kansas</td>\n",
       "      <td>0.71</td>\n",
       "      <td>21.6</td>\n",
       "    </tr>\n",
       "    <tr>\n",
       "      <th>17</th>\n",
       "      <td>Kentucky</td>\n",
       "      <td>1.00</td>\n",
       "      <td>20.2</td>\n",
       "    </tr>\n",
       "    <tr>\n",
       "      <th>18</th>\n",
       "      <td>Louisiana</td>\n",
       "      <td>1.00</td>\n",
       "      <td>19.2</td>\n",
       "    </tr>\n",
       "    <tr>\n",
       "      <th>19</th>\n",
       "      <td>Maine</td>\n",
       "      <td>0.07</td>\n",
       "      <td>24.0</td>\n",
       "    </tr>\n",
       "    <tr>\n",
       "      <th>21</th>\n",
       "      <td>Maryland</td>\n",
       "      <td>0.31</td>\n",
       "      <td>22.5</td>\n",
       "    </tr>\n",
       "    <tr>\n",
       "      <th>22</th>\n",
       "      <td>Massachusetts</td>\n",
       "      <td>0.25</td>\n",
       "      <td>25.5</td>\n",
       "    </tr>\n",
       "    <tr>\n",
       "      <th>23</th>\n",
       "      <td>Michigan</td>\n",
       "      <td>0.22</td>\n",
       "      <td>24.2</td>\n",
       "    </tr>\n",
       "    <tr>\n",
       "      <th>24</th>\n",
       "      <td>Minnesota</td>\n",
       "      <td>0.99</td>\n",
       "      <td>21.3</td>\n",
       "    </tr>\n",
       "    <tr>\n",
       "      <th>25</th>\n",
       "      <td>Mississippi</td>\n",
       "      <td>1.00</td>\n",
       "      <td>18.6</td>\n",
       "    </tr>\n",
       "  </tbody>\n",
       "</table>\n",
       "</div>"
      ],
      "text/plain": [
       "                   state  participation_act18  composite_act18\n",
       "0                Alabama                 1.00             19.1\n",
       "1                 Alaska                 0.33             20.8\n",
       "2                Arizona                 0.66             19.2\n",
       "3               Arkansas                 1.00             19.4\n",
       "4             California                 0.27             22.7\n",
       "5               Colorado                 0.30             23.9\n",
       "6            Connecticut                 0.26             25.6\n",
       "7               Delaware                 0.17             23.8\n",
       "8   District of columbia                 0.32             23.6\n",
       "9                Florida                 0.66             19.9\n",
       "10               Georgia                 0.53             21.4\n",
       "11                Hawaii                 0.89             18.9\n",
       "12                 Idaho                 0.36             22.3\n",
       "13              Illinois                 0.43             23.9\n",
       "14               Indiana                 0.32             22.5\n",
       "15                  Iowa                 0.68             21.8\n",
       "16                Kansas                 0.71             21.6\n",
       "17              Kentucky                 1.00             20.2\n",
       "18             Louisiana                 1.00             19.2\n",
       "19                 Maine                 0.07             24.0\n",
       "21              Maryland                 0.31             22.5\n",
       "22         Massachusetts                 0.25             25.5\n",
       "23              Michigan                 0.22             24.2\n",
       "24             Minnesota                 0.99             21.3\n",
       "25           Mississippi                 1.00             18.6"
      ]
     },
     "execution_count": 31,
     "metadata": {},
     "output_type": "execute_result"
    }
   ],
   "source": [
    "act_2018.head(25)"
   ]
  },
  {
   "cell_type": "code",
   "execution_count": 32,
   "metadata": {},
   "outputs": [
    {
     "data": {
      "text/html": [
       "<div>\n",
       "<style scoped>\n",
       "    .dataframe tbody tr th:only-of-type {\n",
       "        vertical-align: middle;\n",
       "    }\n",
       "\n",
       "    .dataframe tbody tr th {\n",
       "        vertical-align: top;\n",
       "    }\n",
       "\n",
       "    .dataframe thead th {\n",
       "        text-align: right;\n",
       "    }\n",
       "</style>\n",
       "<table border=\"1\" class=\"dataframe\">\n",
       "  <thead>\n",
       "    <tr style=\"text-align: right;\">\n",
       "      <th></th>\n",
       "      <th>state</th>\n",
       "      <th>participation_sat18</th>\n",
       "      <th>language_sat18</th>\n",
       "      <th>math_sat18</th>\n",
       "      <th>total_sat18</th>\n",
       "    </tr>\n",
       "  </thead>\n",
       "  <tbody>\n",
       "    <tr>\n",
       "      <th>0</th>\n",
       "      <td>Alabama</td>\n",
       "      <td>0.06</td>\n",
       "      <td>595</td>\n",
       "      <td>571</td>\n",
       "      <td>1166</td>\n",
       "    </tr>\n",
       "    <tr>\n",
       "      <th>1</th>\n",
       "      <td>Alaska</td>\n",
       "      <td>0.43</td>\n",
       "      <td>562</td>\n",
       "      <td>544</td>\n",
       "      <td>1106</td>\n",
       "    </tr>\n",
       "    <tr>\n",
       "      <th>2</th>\n",
       "      <td>Arizona</td>\n",
       "      <td>0.29</td>\n",
       "      <td>577</td>\n",
       "      <td>572</td>\n",
       "      <td>1149</td>\n",
       "    </tr>\n",
       "    <tr>\n",
       "      <th>3</th>\n",
       "      <td>Arkansas</td>\n",
       "      <td>0.05</td>\n",
       "      <td>592</td>\n",
       "      <td>576</td>\n",
       "      <td>1169</td>\n",
       "    </tr>\n",
       "    <tr>\n",
       "      <th>4</th>\n",
       "      <td>California</td>\n",
       "      <td>0.60</td>\n",
       "      <td>540</td>\n",
       "      <td>536</td>\n",
       "      <td>1076</td>\n",
       "    </tr>\n",
       "  </tbody>\n",
       "</table>\n",
       "</div>"
      ],
      "text/plain": [
       "        state  participation_sat18  language_sat18  math_sat18  total_sat18\n",
       "0     Alabama                 0.06             595         571         1166\n",
       "1      Alaska                 0.43             562         544         1106\n",
       "2     Arizona                 0.29             577         572         1149\n",
       "3    Arkansas                 0.05             592         576         1169\n",
       "4  California                 0.60             540         536         1076"
      ]
     },
     "execution_count": 32,
     "metadata": {},
     "output_type": "execute_result"
    }
   ],
   "source": [
    "sat_2018.head()"
   ]
  },
  {
   "cell_type": "code",
   "execution_count": 33,
   "metadata": {},
   "outputs": [
    {
     "data": {
      "text/plain": [
       "state                   object\n",
       "participation_sat18    float64\n",
       "language_sat18           int64\n",
       "math_sat18               int64\n",
       "total_sat18              int64\n",
       "dtype: object"
      ]
     },
     "execution_count": 33,
     "metadata": {},
     "output_type": "execute_result"
    }
   ],
   "source": [
    "sat_2018.dtypes"
   ]
  },
  {
   "cell_type": "code",
   "execution_count": 34,
   "metadata": {},
   "outputs": [
    {
     "data": {
      "text/plain": [
       "state                   object\n",
       "participation_act18    float64\n",
       "composite_act18        float64\n",
       "dtype: object"
      ]
     },
     "execution_count": 34,
     "metadata": {},
     "output_type": "execute_result"
    }
   ],
   "source": [
    "act_2018.dtypes"
   ]
  },
  {
   "cell_type": "markdown",
   "metadata": {},
   "source": [
    "#### Combine 2017 and 2018 data into a single dataframe\n"
   ]
  },
  {
   "cell_type": "code",
   "execution_count": 35,
   "metadata": {},
   "outputs": [
    {
     "data": {
      "text/html": [
       "<div>\n",
       "<style scoped>\n",
       "    .dataframe tbody tr th:only-of-type {\n",
       "        vertical-align: middle;\n",
       "    }\n",
       "\n",
       "    .dataframe tbody tr th {\n",
       "        vertical-align: top;\n",
       "    }\n",
       "\n",
       "    .dataframe thead th {\n",
       "        text-align: right;\n",
       "    }\n",
       "</style>\n",
       "<table border=\"1\" class=\"dataframe\">\n",
       "  <thead>\n",
       "    <tr style=\"text-align: right;\">\n",
       "      <th></th>\n",
       "      <th>state</th>\n",
       "      <th>participation_act18</th>\n",
       "      <th>composite_act18</th>\n",
       "      <th>participation_sat18</th>\n",
       "      <th>language_sat18</th>\n",
       "      <th>math_sat18</th>\n",
       "      <th>total_sat18</th>\n",
       "    </tr>\n",
       "  </thead>\n",
       "  <tbody>\n",
       "    <tr>\n",
       "      <th>0</th>\n",
       "      <td>Alabama</td>\n",
       "      <td>1.00</td>\n",
       "      <td>19.1</td>\n",
       "      <td>0.06</td>\n",
       "      <td>595</td>\n",
       "      <td>571</td>\n",
       "      <td>1166</td>\n",
       "    </tr>\n",
       "    <tr>\n",
       "      <th>1</th>\n",
       "      <td>Alaska</td>\n",
       "      <td>0.33</td>\n",
       "      <td>20.8</td>\n",
       "      <td>0.43</td>\n",
       "      <td>562</td>\n",
       "      <td>544</td>\n",
       "      <td>1106</td>\n",
       "    </tr>\n",
       "    <tr>\n",
       "      <th>2</th>\n",
       "      <td>Arizona</td>\n",
       "      <td>0.66</td>\n",
       "      <td>19.2</td>\n",
       "      <td>0.29</td>\n",
       "      <td>577</td>\n",
       "      <td>572</td>\n",
       "      <td>1149</td>\n",
       "    </tr>\n",
       "    <tr>\n",
       "      <th>3</th>\n",
       "      <td>Arkansas</td>\n",
       "      <td>1.00</td>\n",
       "      <td>19.4</td>\n",
       "      <td>0.05</td>\n",
       "      <td>592</td>\n",
       "      <td>576</td>\n",
       "      <td>1169</td>\n",
       "    </tr>\n",
       "    <tr>\n",
       "      <th>4</th>\n",
       "      <td>California</td>\n",
       "      <td>0.27</td>\n",
       "      <td>22.7</td>\n",
       "      <td>0.60</td>\n",
       "      <td>540</td>\n",
       "      <td>536</td>\n",
       "      <td>1076</td>\n",
       "    </tr>\n",
       "  </tbody>\n",
       "</table>\n",
       "</div>"
      ],
      "text/plain": [
       "        state  participation_act18  composite_act18  participation_sat18  \\\n",
       "0     Alabama                 1.00             19.1                 0.06   \n",
       "1      Alaska                 0.33             20.8                 0.43   \n",
       "2     Arizona                 0.66             19.2                 0.29   \n",
       "3    Arkansas                 1.00             19.4                 0.05   \n",
       "4  California                 0.27             22.7                 0.60   \n",
       "\n",
       "   language_sat18  math_sat18  total_sat18  \n",
       "0             595         571         1166  \n",
       "1             562         544         1106  \n",
       "2             577         572         1149  \n",
       "3             592         576         1169  \n",
       "4             540         536         1076  "
      ]
     },
     "execution_count": 35,
     "metadata": {},
     "output_type": "execute_result"
    }
   ],
   "source": [
    "tests_2018 = pd.merge(act_2018, sat_2018, on=\"state\")\n",
    "tests_2018.head()"
   ]
  },
  {
   "cell_type": "code",
   "execution_count": 36,
   "metadata": {},
   "outputs": [
    {
     "data": {
      "text/html": [
       "<div>\n",
       "<style scoped>\n",
       "    .dataframe tbody tr th:only-of-type {\n",
       "        vertical-align: middle;\n",
       "    }\n",
       "\n",
       "    .dataframe tbody tr th {\n",
       "        vertical-align: top;\n",
       "    }\n",
       "\n",
       "    .dataframe thead th {\n",
       "        text-align: right;\n",
       "    }\n",
       "</style>\n",
       "<table border=\"1\" class=\"dataframe\">\n",
       "  <thead>\n",
       "    <tr style=\"text-align: right;\">\n",
       "      <th></th>\n",
       "      <th>state</th>\n",
       "      <th>participation_act17</th>\n",
       "      <th>english_act17</th>\n",
       "      <th>math_act17</th>\n",
       "      <th>reading_act17</th>\n",
       "      <th>science_act17</th>\n",
       "      <th>composite_act17</th>\n",
       "      <th>participation_sat17</th>\n",
       "      <th>language_sat17</th>\n",
       "      <th>math_sat17</th>\n",
       "      <th>total_sat17</th>\n",
       "      <th>participation_act18</th>\n",
       "      <th>composite_act18</th>\n",
       "      <th>participation_sat18</th>\n",
       "      <th>language_sat18</th>\n",
       "      <th>math_sat18</th>\n",
       "      <th>total_sat18</th>\n",
       "    </tr>\n",
       "  </thead>\n",
       "  <tbody>\n",
       "    <tr>\n",
       "      <th>0</th>\n",
       "      <td>Alabama</td>\n",
       "      <td>1.00</td>\n",
       "      <td>18.9</td>\n",
       "      <td>18.4</td>\n",
       "      <td>19.7</td>\n",
       "      <td>19.4</td>\n",
       "      <td>19.2</td>\n",
       "      <td>0.05</td>\n",
       "      <td>593</td>\n",
       "      <td>572</td>\n",
       "      <td>1165</td>\n",
       "      <td>1.00</td>\n",
       "      <td>19.1</td>\n",
       "      <td>0.06</td>\n",
       "      <td>595</td>\n",
       "      <td>571</td>\n",
       "      <td>1166</td>\n",
       "    </tr>\n",
       "    <tr>\n",
       "      <th>1</th>\n",
       "      <td>Alaska</td>\n",
       "      <td>0.65</td>\n",
       "      <td>18.7</td>\n",
       "      <td>19.8</td>\n",
       "      <td>20.4</td>\n",
       "      <td>19.9</td>\n",
       "      <td>19.8</td>\n",
       "      <td>0.38</td>\n",
       "      <td>547</td>\n",
       "      <td>533</td>\n",
       "      <td>1080</td>\n",
       "      <td>0.33</td>\n",
       "      <td>20.8</td>\n",
       "      <td>0.43</td>\n",
       "      <td>562</td>\n",
       "      <td>544</td>\n",
       "      <td>1106</td>\n",
       "    </tr>\n",
       "    <tr>\n",
       "      <th>2</th>\n",
       "      <td>Arizona</td>\n",
       "      <td>0.62</td>\n",
       "      <td>18.6</td>\n",
       "      <td>19.8</td>\n",
       "      <td>20.1</td>\n",
       "      <td>19.8</td>\n",
       "      <td>19.7</td>\n",
       "      <td>0.30</td>\n",
       "      <td>563</td>\n",
       "      <td>553</td>\n",
       "      <td>1116</td>\n",
       "      <td>0.66</td>\n",
       "      <td>19.2</td>\n",
       "      <td>0.29</td>\n",
       "      <td>577</td>\n",
       "      <td>572</td>\n",
       "      <td>1149</td>\n",
       "    </tr>\n",
       "    <tr>\n",
       "      <th>3</th>\n",
       "      <td>Arkansas</td>\n",
       "      <td>1.00</td>\n",
       "      <td>18.9</td>\n",
       "      <td>19.0</td>\n",
       "      <td>19.7</td>\n",
       "      <td>19.5</td>\n",
       "      <td>19.4</td>\n",
       "      <td>0.03</td>\n",
       "      <td>614</td>\n",
       "      <td>594</td>\n",
       "      <td>1208</td>\n",
       "      <td>1.00</td>\n",
       "      <td>19.4</td>\n",
       "      <td>0.05</td>\n",
       "      <td>592</td>\n",
       "      <td>576</td>\n",
       "      <td>1169</td>\n",
       "    </tr>\n",
       "    <tr>\n",
       "      <th>4</th>\n",
       "      <td>California</td>\n",
       "      <td>0.31</td>\n",
       "      <td>22.5</td>\n",
       "      <td>22.7</td>\n",
       "      <td>23.1</td>\n",
       "      <td>22.2</td>\n",
       "      <td>22.8</td>\n",
       "      <td>0.53</td>\n",
       "      <td>531</td>\n",
       "      <td>524</td>\n",
       "      <td>1055</td>\n",
       "      <td>0.27</td>\n",
       "      <td>22.7</td>\n",
       "      <td>0.60</td>\n",
       "      <td>540</td>\n",
       "      <td>536</td>\n",
       "      <td>1076</td>\n",
       "    </tr>\n",
       "  </tbody>\n",
       "</table>\n",
       "</div>"
      ],
      "text/plain": [
       "        state  participation_act17  english_act17  math_act17  reading_act17  \\\n",
       "0     Alabama                 1.00           18.9        18.4           19.7   \n",
       "1      Alaska                 0.65           18.7        19.8           20.4   \n",
       "2     Arizona                 0.62           18.6        19.8           20.1   \n",
       "3    Arkansas                 1.00           18.9        19.0           19.7   \n",
       "4  California                 0.31           22.5        22.7           23.1   \n",
       "\n",
       "   science_act17  composite_act17  participation_sat17  language_sat17  \\\n",
       "0           19.4             19.2                 0.05             593   \n",
       "1           19.9             19.8                 0.38             547   \n",
       "2           19.8             19.7                 0.30             563   \n",
       "3           19.5             19.4                 0.03             614   \n",
       "4           22.2             22.8                 0.53             531   \n",
       "\n",
       "   math_sat17  total_sat17  participation_act18  composite_act18  \\\n",
       "0         572         1165                 1.00             19.1   \n",
       "1         533         1080                 0.33             20.8   \n",
       "2         553         1116                 0.66             19.2   \n",
       "3         594         1208                 1.00             19.4   \n",
       "4         524         1055                 0.27             22.7   \n",
       "\n",
       "   participation_sat18  language_sat18  math_sat18  total_sat18  \n",
       "0                 0.06             595         571         1166  \n",
       "1                 0.43             562         544         1106  \n",
       "2                 0.29             577         572         1149  \n",
       "3                 0.05             592         576         1169  \n",
       "4                 0.60             540         536         1076  "
      ]
     },
     "execution_count": 36,
     "metadata": {},
     "output_type": "execute_result"
    }
   ],
   "source": [
    "tests_2017_2018 = pd.merge(tests_2017, tests_2018, on=\"state\")\n",
    "tests_2017_2018.head()"
   ]
  },
  {
   "cell_type": "code",
   "execution_count": 37,
   "metadata": {},
   "outputs": [
    {
     "data": {
      "text/plain": [
       "state                   object\n",
       "participation_act17    float64\n",
       "english_act17          float64\n",
       "math_act17             float64\n",
       "reading_act17          float64\n",
       "science_act17          float64\n",
       "composite_act17        float64\n",
       "participation_sat17    float64\n",
       "language_sat17           int64\n",
       "math_sat17               int64\n",
       "total_sat17              int64\n",
       "participation_act18    float64\n",
       "composite_act18        float64\n",
       "participation_sat18    float64\n",
       "language_sat18           int64\n",
       "math_sat18               int64\n",
       "total_sat18              int64\n",
       "dtype: object"
      ]
     },
     "execution_count": 37,
     "metadata": {},
     "output_type": "execute_result"
    }
   ],
   "source": [
    "tests_2017_2018.dtypes"
   ]
  },
  {
   "cell_type": "markdown",
   "metadata": {},
   "source": [
    "## Exploratory Data Analysis\n",
    "\n",
    "\n",
    "### Summary Statistics\n"
   ]
  },
  {
   "cell_type": "code",
   "execution_count": 38,
   "metadata": {},
   "outputs": [
    {
     "data": {
      "text/html": [
       "<div>\n",
       "<style scoped>\n",
       "    .dataframe tbody tr th:only-of-type {\n",
       "        vertical-align: middle;\n",
       "    }\n",
       "\n",
       "    .dataframe tbody tr th {\n",
       "        vertical-align: top;\n",
       "    }\n",
       "\n",
       "    .dataframe thead th {\n",
       "        text-align: right;\n",
       "    }\n",
       "</style>\n",
       "<table border=\"1\" class=\"dataframe\">\n",
       "  <thead>\n",
       "    <tr style=\"text-align: right;\">\n",
       "      <th></th>\n",
       "      <th>count</th>\n",
       "      <th>mean</th>\n",
       "      <th>std</th>\n",
       "      <th>min</th>\n",
       "      <th>25%</th>\n",
       "      <th>50%</th>\n",
       "      <th>75%</th>\n",
       "      <th>max</th>\n",
       "    </tr>\n",
       "  </thead>\n",
       "  <tbody>\n",
       "    <tr>\n",
       "      <th>participation_act17</th>\n",
       "      <td>50.0</td>\n",
       "      <td>0.6592</td>\n",
       "      <td>0.321107</td>\n",
       "      <td>0.08</td>\n",
       "      <td>0.3100</td>\n",
       "      <td>0.71</td>\n",
       "      <td>1.000</td>\n",
       "      <td>1.0</td>\n",
       "    </tr>\n",
       "    <tr>\n",
       "      <th>english_act17</th>\n",
       "      <td>50.0</td>\n",
       "      <td>20.8620</td>\n",
       "      <td>2.324307</td>\n",
       "      <td>16.30</td>\n",
       "      <td>19.0000</td>\n",
       "      <td>20.55</td>\n",
       "      <td>23.100</td>\n",
       "      <td>25.5</td>\n",
       "    </tr>\n",
       "    <tr>\n",
       "      <th>math_act17</th>\n",
       "      <td>50.0</td>\n",
       "      <td>21.1360</td>\n",
       "      <td>1.973990</td>\n",
       "      <td>18.00</td>\n",
       "      <td>19.4000</td>\n",
       "      <td>20.90</td>\n",
       "      <td>23.000</td>\n",
       "      <td>25.3</td>\n",
       "    </tr>\n",
       "    <tr>\n",
       "      <th>reading_act17</th>\n",
       "      <td>50.0</td>\n",
       "      <td>21.9560</td>\n",
       "      <td>2.046317</td>\n",
       "      <td>18.10</td>\n",
       "      <td>20.4250</td>\n",
       "      <td>21.70</td>\n",
       "      <td>23.875</td>\n",
       "      <td>26.0</td>\n",
       "    </tr>\n",
       "    <tr>\n",
       "      <th>science_act17</th>\n",
       "      <td>50.0</td>\n",
       "      <td>21.4080</td>\n",
       "      <td>1.729910</td>\n",
       "      <td>18.20</td>\n",
       "      <td>19.9250</td>\n",
       "      <td>21.30</td>\n",
       "      <td>22.900</td>\n",
       "      <td>24.9</td>\n",
       "    </tr>\n",
       "    <tr>\n",
       "      <th>composite_act17</th>\n",
       "      <td>50.0</td>\n",
       "      <td>21.4660</td>\n",
       "      <td>2.004241</td>\n",
       "      <td>17.80</td>\n",
       "      <td>19.8000</td>\n",
       "      <td>21.40</td>\n",
       "      <td>23.400</td>\n",
       "      <td>25.5</td>\n",
       "    </tr>\n",
       "    <tr>\n",
       "      <th>participation_sat17</th>\n",
       "      <td>50.0</td>\n",
       "      <td>0.3860</td>\n",
       "      <td>0.345602</td>\n",
       "      <td>0.02</td>\n",
       "      <td>0.0400</td>\n",
       "      <td>0.34</td>\n",
       "      <td>0.650</td>\n",
       "      <td>1.0</td>\n",
       "    </tr>\n",
       "    <tr>\n",
       "      <th>language_sat17</th>\n",
       "      <td>50.0</td>\n",
       "      <td>570.8600</td>\n",
       "      <td>44.385146</td>\n",
       "      <td>503.00</td>\n",
       "      <td>535.2500</td>\n",
       "      <td>559.50</td>\n",
       "      <td>613.500</td>\n",
       "      <td>644.0</td>\n",
       "    </tr>\n",
       "    <tr>\n",
       "      <th>math_sat17</th>\n",
       "      <td>50.0</td>\n",
       "      <td>558.7800</td>\n",
       "      <td>45.755022</td>\n",
       "      <td>492.00</td>\n",
       "      <td>524.0000</td>\n",
       "      <td>549.50</td>\n",
       "      <td>601.000</td>\n",
       "      <td>651.0</td>\n",
       "    </tr>\n",
       "    <tr>\n",
       "      <th>total_sat17</th>\n",
       "      <td>50.0</td>\n",
       "      <td>1129.6200</td>\n",
       "      <td>89.913085</td>\n",
       "      <td>996.00</td>\n",
       "      <td>1057.0000</td>\n",
       "      <td>1107.50</td>\n",
       "      <td>1214.000</td>\n",
       "      <td>1295.0</td>\n",
       "    </tr>\n",
       "    <tr>\n",
       "      <th>participation_act18</th>\n",
       "      <td>50.0</td>\n",
       "      <td>0.6232</td>\n",
       "      <td>0.341141</td>\n",
       "      <td>0.07</td>\n",
       "      <td>0.2775</td>\n",
       "      <td>0.66</td>\n",
       "      <td>1.000</td>\n",
       "      <td>1.0</td>\n",
       "    </tr>\n",
       "    <tr>\n",
       "      <th>composite_act18</th>\n",
       "      <td>50.0</td>\n",
       "      <td>21.4540</td>\n",
       "      <td>2.111312</td>\n",
       "      <td>17.70</td>\n",
       "      <td>19.9250</td>\n",
       "      <td>21.05</td>\n",
       "      <td>23.650</td>\n",
       "      <td>25.6</td>\n",
       "    </tr>\n",
       "    <tr>\n",
       "      <th>participation_sat18</th>\n",
       "      <td>50.0</td>\n",
       "      <td>0.4482</td>\n",
       "      <td>0.370976</td>\n",
       "      <td>0.02</td>\n",
       "      <td>0.0425</td>\n",
       "      <td>0.50</td>\n",
       "      <td>0.745</td>\n",
       "      <td>1.0</td>\n",
       "    </tr>\n",
       "    <tr>\n",
       "      <th>language_sat18</th>\n",
       "      <td>50.0</td>\n",
       "      <td>565.0200</td>\n",
       "      <td>47.010416</td>\n",
       "      <td>480.00</td>\n",
       "      <td>535.0000</td>\n",
       "      <td>552.00</td>\n",
       "      <td>612.750</td>\n",
       "      <td>643.0</td>\n",
       "    </tr>\n",
       "    <tr>\n",
       "      <th>math_sat18</th>\n",
       "      <td>50.0</td>\n",
       "      <td>557.7600</td>\n",
       "      <td>46.987432</td>\n",
       "      <td>486.00</td>\n",
       "      <td>524.2500</td>\n",
       "      <td>545.50</td>\n",
       "      <td>594.250</td>\n",
       "      <td>655.0</td>\n",
       "    </tr>\n",
       "    <tr>\n",
       "      <th>total_sat18</th>\n",
       "      <td>50.0</td>\n",
       "      <td>1122.8800</td>\n",
       "      <td>92.845634</td>\n",
       "      <td>998.00</td>\n",
       "      <td>1062.2500</td>\n",
       "      <td>1098.50</td>\n",
       "      <td>1207.000</td>\n",
       "      <td>1298.0</td>\n",
       "    </tr>\n",
       "  </tbody>\n",
       "</table>\n",
       "</div>"
      ],
      "text/plain": [
       "                     count       mean        std     min        25%      50%  \\\n",
       "participation_act17   50.0     0.6592   0.321107    0.08     0.3100     0.71   \n",
       "english_act17         50.0    20.8620   2.324307   16.30    19.0000    20.55   \n",
       "math_act17            50.0    21.1360   1.973990   18.00    19.4000    20.90   \n",
       "reading_act17         50.0    21.9560   2.046317   18.10    20.4250    21.70   \n",
       "science_act17         50.0    21.4080   1.729910   18.20    19.9250    21.30   \n",
       "composite_act17       50.0    21.4660   2.004241   17.80    19.8000    21.40   \n",
       "participation_sat17   50.0     0.3860   0.345602    0.02     0.0400     0.34   \n",
       "language_sat17        50.0   570.8600  44.385146  503.00   535.2500   559.50   \n",
       "math_sat17            50.0   558.7800  45.755022  492.00   524.0000   549.50   \n",
       "total_sat17           50.0  1129.6200  89.913085  996.00  1057.0000  1107.50   \n",
       "participation_act18   50.0     0.6232   0.341141    0.07     0.2775     0.66   \n",
       "composite_act18       50.0    21.4540   2.111312   17.70    19.9250    21.05   \n",
       "participation_sat18   50.0     0.4482   0.370976    0.02     0.0425     0.50   \n",
       "language_sat18        50.0   565.0200  47.010416  480.00   535.0000   552.00   \n",
       "math_sat18            50.0   557.7600  46.987432  486.00   524.2500   545.50   \n",
       "total_sat18           50.0  1122.8800  92.845634  998.00  1062.2500  1098.50   \n",
       "\n",
       "                          75%     max  \n",
       "participation_act17     1.000     1.0  \n",
       "english_act17          23.100    25.5  \n",
       "math_act17             23.000    25.3  \n",
       "reading_act17          23.875    26.0  \n",
       "science_act17          22.900    24.9  \n",
       "composite_act17        23.400    25.5  \n",
       "participation_sat17     0.650     1.0  \n",
       "language_sat17        613.500   644.0  \n",
       "math_sat17            601.000   651.0  \n",
       "total_sat17          1214.000  1295.0  \n",
       "participation_act18     1.000     1.0  \n",
       "composite_act18        23.650    25.6  \n",
       "participation_sat18     0.745     1.0  \n",
       "language_sat18        612.750   643.0  \n",
       "math_sat18            594.250   655.0  \n",
       "total_sat18          1207.000  1298.0  "
      ]
     },
     "execution_count": 38,
     "metadata": {},
     "output_type": "execute_result"
    }
   ],
   "source": [
    "tests_2017_2018.describe().T"
   ]
  },
  {
   "cell_type": "code",
   "execution_count": 39,
   "metadata": {},
   "outputs": [
    {
     "data": {
      "text/plain": [
       "state                  0\n",
       "participation_act17    0\n",
       "english_act17          0\n",
       "math_act17             0\n",
       "reading_act17          0\n",
       "science_act17          0\n",
       "composite_act17        0\n",
       "participation_sat17    0\n",
       "language_sat17         0\n",
       "math_sat17             0\n",
       "total_sat17            0\n",
       "participation_act18    0\n",
       "composite_act18        0\n",
       "participation_sat18    0\n",
       "language_sat18         0\n",
       "math_sat18             0\n",
       "total_sat18            0\n",
       "dtype: int64"
      ]
     },
     "execution_count": 39,
     "metadata": {},
     "output_type": "execute_result"
    }
   ],
   "source": [
    "tests_2017_2018.isnull().sum()"
   ]
  },
  {
   "cell_type": "markdown",
   "metadata": {},
   "source": [
    "#### Manually calculate standard deviation"
   ]
  },
  {
   "cell_type": "code",
   "execution_count": 40,
   "metadata": {},
   "outputs": [],
   "source": [
    "def stddev(series):\n",
    "    mean = sum(series)/len(series)\n",
    "    n = len(series)\n",
    "    to_sum = 0\n",
    "    for i in series:\n",
    "        to_sum += (i - mean)**2\n",
    "    std_dev = ((1/n)*to_sum)**.5\n",
    "    return std_dev"
   ]
  },
  {
   "cell_type": "code",
   "execution_count": 41,
   "metadata": {},
   "outputs": [
    {
     "data": {
      "text/plain": [
       "{'participation_act17': 0.3178794740149165,\n",
       " 'english_act17': 2.3009467616613812,\n",
       " 'math_act17': 1.9541504548012678,\n",
       " 'reading_act17': 2.025750231395766,\n",
       " 'science_act17': 1.7125232845132352,\n",
       " 'composite_act17': 1.9840977798485642,\n",
       " 'participation_sat17': 0.3421286307808805,\n",
       " 'language_sat17': 43.93905324423821,\n",
       " 'math_sat17': 45.295160889437184,\n",
       " 'total_sat17': 89.00941298536914,\n",
       " 'participation_act18': 0.33771254048376703,\n",
       " 'composite_act18': 2.090091864009809,\n",
       " 'participation_sat18': 0.36724754594142633,\n",
       " 'language_sat18': 46.537937212558106,\n",
       " 'math_sat18': 46.51518461749884,\n",
       " 'total_sat18': 91.91248881408882}"
      ]
     },
     "execution_count": 41,
     "metadata": {},
     "output_type": "execute_result"
    }
   ],
   "source": [
    "stddev_dict = {col:stddev(tests_2017_2018[col]) for col in tests_2017_2018.columns if col != 'state'}\n",
    "stddev_dict"
   ]
  },
  {
   "cell_type": "code",
   "execution_count": 42,
   "metadata": {},
   "outputs": [
    {
     "data": {
      "text/plain": [
       "state                   object\n",
       "participation_act17    float64\n",
       "english_act17          float64\n",
       "math_act17             float64\n",
       "reading_act17          float64\n",
       "science_act17          float64\n",
       "composite_act17        float64\n",
       "participation_sat17    float64\n",
       "language_sat17           int64\n",
       "math_sat17               int64\n",
       "total_sat17              int64\n",
       "participation_act18    float64\n",
       "composite_act18        float64\n",
       "participation_sat18    float64\n",
       "language_sat18           int64\n",
       "math_sat18               int64\n",
       "total_sat18              int64\n",
       "dtype: object"
      ]
     },
     "execution_count": 42,
     "metadata": {},
     "output_type": "execute_result"
    }
   ],
   "source": [
    "tests_2017_2018.head()\n",
    "tests_2017_2018.dtypes"
   ]
  },
  {
   "cell_type": "code",
   "execution_count": 43,
   "metadata": {},
   "outputs": [
    {
     "data": {
      "text/html": [
       "<div>\n",
       "<style scoped>\n",
       "    .dataframe tbody tr th:only-of-type {\n",
       "        vertical-align: middle;\n",
       "    }\n",
       "\n",
       "    .dataframe tbody tr th {\n",
       "        vertical-align: top;\n",
       "    }\n",
       "\n",
       "    .dataframe thead th {\n",
       "        text-align: right;\n",
       "    }\n",
       "</style>\n",
       "<table border=\"1\" class=\"dataframe\">\n",
       "  <thead>\n",
       "    <tr style=\"text-align: right;\">\n",
       "      <th></th>\n",
       "      <th>state</th>\n",
       "      <th>participation_act17</th>\n",
       "    </tr>\n",
       "  </thead>\n",
       "  <tbody>\n",
       "    <tr>\n",
       "      <th>0</th>\n",
       "      <td>Alabama</td>\n",
       "      <td>1.00</td>\n",
       "    </tr>\n",
       "    <tr>\n",
       "      <th>1</th>\n",
       "      <td>Alaska</td>\n",
       "      <td>0.65</td>\n",
       "    </tr>\n",
       "    <tr>\n",
       "      <th>2</th>\n",
       "      <td>Arizona</td>\n",
       "      <td>0.62</td>\n",
       "    </tr>\n",
       "    <tr>\n",
       "      <th>3</th>\n",
       "      <td>Arkansas</td>\n",
       "      <td>1.00</td>\n",
       "    </tr>\n",
       "    <tr>\n",
       "      <th>4</th>\n",
       "      <td>California</td>\n",
       "      <td>0.31</td>\n",
       "    </tr>\n",
       "    <tr>\n",
       "      <th>5</th>\n",
       "      <td>Colorado</td>\n",
       "      <td>1.00</td>\n",
       "    </tr>\n",
       "    <tr>\n",
       "      <th>6</th>\n",
       "      <td>Connecticut</td>\n",
       "      <td>0.31</td>\n",
       "    </tr>\n",
       "    <tr>\n",
       "      <th>7</th>\n",
       "      <td>Delaware</td>\n",
       "      <td>0.18</td>\n",
       "    </tr>\n",
       "    <tr>\n",
       "      <th>8</th>\n",
       "      <td>Florida</td>\n",
       "      <td>0.73</td>\n",
       "    </tr>\n",
       "    <tr>\n",
       "      <th>9</th>\n",
       "      <td>Georgia</td>\n",
       "      <td>0.55</td>\n",
       "    </tr>\n",
       "    <tr>\n",
       "      <th>10</th>\n",
       "      <td>Hawaii</td>\n",
       "      <td>0.90</td>\n",
       "    </tr>\n",
       "    <tr>\n",
       "      <th>11</th>\n",
       "      <td>Idaho</td>\n",
       "      <td>0.38</td>\n",
       "    </tr>\n",
       "    <tr>\n",
       "      <th>12</th>\n",
       "      <td>Illinois</td>\n",
       "      <td>0.93</td>\n",
       "    </tr>\n",
       "    <tr>\n",
       "      <th>13</th>\n",
       "      <td>Indiana</td>\n",
       "      <td>0.35</td>\n",
       "    </tr>\n",
       "    <tr>\n",
       "      <th>14</th>\n",
       "      <td>Iowa</td>\n",
       "      <td>0.67</td>\n",
       "    </tr>\n",
       "    <tr>\n",
       "      <th>15</th>\n",
       "      <td>Kansas</td>\n",
       "      <td>0.73</td>\n",
       "    </tr>\n",
       "    <tr>\n",
       "      <th>16</th>\n",
       "      <td>Kentucky</td>\n",
       "      <td>1.00</td>\n",
       "    </tr>\n",
       "    <tr>\n",
       "      <th>17</th>\n",
       "      <td>Louisiana</td>\n",
       "      <td>1.00</td>\n",
       "    </tr>\n",
       "    <tr>\n",
       "      <th>18</th>\n",
       "      <td>Maine</td>\n",
       "      <td>0.08</td>\n",
       "    </tr>\n",
       "    <tr>\n",
       "      <th>19</th>\n",
       "      <td>Maryland</td>\n",
       "      <td>0.28</td>\n",
       "    </tr>\n",
       "    <tr>\n",
       "      <th>20</th>\n",
       "      <td>Massachusetts</td>\n",
       "      <td>0.29</td>\n",
       "    </tr>\n",
       "    <tr>\n",
       "      <th>21</th>\n",
       "      <td>Michigan</td>\n",
       "      <td>0.29</td>\n",
       "    </tr>\n",
       "    <tr>\n",
       "      <th>22</th>\n",
       "      <td>Minnesota</td>\n",
       "      <td>1.00</td>\n",
       "    </tr>\n",
       "    <tr>\n",
       "      <th>23</th>\n",
       "      <td>Mississippi</td>\n",
       "      <td>1.00</td>\n",
       "    </tr>\n",
       "    <tr>\n",
       "      <th>24</th>\n",
       "      <td>Missouri</td>\n",
       "      <td>1.00</td>\n",
       "    </tr>\n",
       "    <tr>\n",
       "      <th>25</th>\n",
       "      <td>Montana</td>\n",
       "      <td>1.00</td>\n",
       "    </tr>\n",
       "    <tr>\n",
       "      <th>26</th>\n",
       "      <td>Nebraska</td>\n",
       "      <td>0.84</td>\n",
       "    </tr>\n",
       "    <tr>\n",
       "      <th>27</th>\n",
       "      <td>Nevada</td>\n",
       "      <td>1.00</td>\n",
       "    </tr>\n",
       "    <tr>\n",
       "      <th>28</th>\n",
       "      <td>New Hampshire</td>\n",
       "      <td>0.18</td>\n",
       "    </tr>\n",
       "    <tr>\n",
       "      <th>29</th>\n",
       "      <td>New Jersey</td>\n",
       "      <td>0.34</td>\n",
       "    </tr>\n",
       "    <tr>\n",
       "      <th>30</th>\n",
       "      <td>New Mexico</td>\n",
       "      <td>0.66</td>\n",
       "    </tr>\n",
       "    <tr>\n",
       "      <th>31</th>\n",
       "      <td>New York</td>\n",
       "      <td>0.31</td>\n",
       "    </tr>\n",
       "    <tr>\n",
       "      <th>32</th>\n",
       "      <td>North Carolina</td>\n",
       "      <td>1.00</td>\n",
       "    </tr>\n",
       "    <tr>\n",
       "      <th>33</th>\n",
       "      <td>North Dakota</td>\n",
       "      <td>0.98</td>\n",
       "    </tr>\n",
       "    <tr>\n",
       "      <th>34</th>\n",
       "      <td>Ohio</td>\n",
       "      <td>0.75</td>\n",
       "    </tr>\n",
       "    <tr>\n",
       "      <th>35</th>\n",
       "      <td>Oklahoma</td>\n",
       "      <td>1.00</td>\n",
       "    </tr>\n",
       "    <tr>\n",
       "      <th>36</th>\n",
       "      <td>Oregon</td>\n",
       "      <td>0.40</td>\n",
       "    </tr>\n",
       "    <tr>\n",
       "      <th>37</th>\n",
       "      <td>Pennsylvania</td>\n",
       "      <td>0.23</td>\n",
       "    </tr>\n",
       "    <tr>\n",
       "      <th>38</th>\n",
       "      <td>Rhode Island</td>\n",
       "      <td>0.21</td>\n",
       "    </tr>\n",
       "    <tr>\n",
       "      <th>39</th>\n",
       "      <td>South Carolina</td>\n",
       "      <td>1.00</td>\n",
       "    </tr>\n",
       "    <tr>\n",
       "      <th>40</th>\n",
       "      <td>South Dakota</td>\n",
       "      <td>0.80</td>\n",
       "    </tr>\n",
       "    <tr>\n",
       "      <th>41</th>\n",
       "      <td>Tennessee</td>\n",
       "      <td>1.00</td>\n",
       "    </tr>\n",
       "    <tr>\n",
       "      <th>42</th>\n",
       "      <td>Texas</td>\n",
       "      <td>0.45</td>\n",
       "    </tr>\n",
       "    <tr>\n",
       "      <th>43</th>\n",
       "      <td>Utah</td>\n",
       "      <td>1.00</td>\n",
       "    </tr>\n",
       "    <tr>\n",
       "      <th>44</th>\n",
       "      <td>Vermont</td>\n",
       "      <td>0.29</td>\n",
       "    </tr>\n",
       "    <tr>\n",
       "      <th>45</th>\n",
       "      <td>Virginia</td>\n",
       "      <td>0.29</td>\n",
       "    </tr>\n",
       "    <tr>\n",
       "      <th>46</th>\n",
       "      <td>Washington</td>\n",
       "      <td>0.29</td>\n",
       "    </tr>\n",
       "    <tr>\n",
       "      <th>47</th>\n",
       "      <td>West Virginia</td>\n",
       "      <td>0.69</td>\n",
       "    </tr>\n",
       "    <tr>\n",
       "      <th>48</th>\n",
       "      <td>Wisconsin</td>\n",
       "      <td>1.00</td>\n",
       "    </tr>\n",
       "    <tr>\n",
       "      <th>49</th>\n",
       "      <td>Wyoming</td>\n",
       "      <td>1.00</td>\n",
       "    </tr>\n",
       "  </tbody>\n",
       "</table>\n",
       "</div>"
      ],
      "text/plain": [
       "             state  participation_act17\n",
       "0          Alabama                 1.00\n",
       "1           Alaska                 0.65\n",
       "2          Arizona                 0.62\n",
       "3         Arkansas                 1.00\n",
       "4       California                 0.31\n",
       "5         Colorado                 1.00\n",
       "6      Connecticut                 0.31\n",
       "7         Delaware                 0.18\n",
       "8          Florida                 0.73\n",
       "9          Georgia                 0.55\n",
       "10          Hawaii                 0.90\n",
       "11           Idaho                 0.38\n",
       "12        Illinois                 0.93\n",
       "13         Indiana                 0.35\n",
       "14            Iowa                 0.67\n",
       "15          Kansas                 0.73\n",
       "16        Kentucky                 1.00\n",
       "17       Louisiana                 1.00\n",
       "18           Maine                 0.08\n",
       "19        Maryland                 0.28\n",
       "20   Massachusetts                 0.29\n",
       "21        Michigan                 0.29\n",
       "22       Minnesota                 1.00\n",
       "23     Mississippi                 1.00\n",
       "24        Missouri                 1.00\n",
       "25         Montana                 1.00\n",
       "26        Nebraska                 0.84\n",
       "27          Nevada                 1.00\n",
       "28   New Hampshire                 0.18\n",
       "29      New Jersey                 0.34\n",
       "30      New Mexico                 0.66\n",
       "31        New York                 0.31\n",
       "32  North Carolina                 1.00\n",
       "33    North Dakota                 0.98\n",
       "34            Ohio                 0.75\n",
       "35        Oklahoma                 1.00\n",
       "36          Oregon                 0.40\n",
       "37    Pennsylvania                 0.23\n",
       "38    Rhode Island                 0.21\n",
       "39  South Carolina                 1.00\n",
       "40    South Dakota                 0.80\n",
       "41       Tennessee                 1.00\n",
       "42           Texas                 0.45\n",
       "43            Utah                 1.00\n",
       "44         Vermont                 0.29\n",
       "45        Virginia                 0.29\n",
       "46      Washington                 0.29\n",
       "47   West Virginia                 0.69\n",
       "48       Wisconsin                 1.00\n",
       "49         Wyoming                 1.00"
      ]
     },
     "execution_count": 43,
     "metadata": {},
     "output_type": "execute_result"
    }
   ],
   "source": [
    "tests_2017_2018.loc[:,['state','participation_act17']]#.sort_values(by='participation_act17')"
   ]
  },
  {
   "cell_type": "markdown",
   "metadata": {},
   "source": [
    "## Data Visualization"
   ]
  },
  {
   "cell_type": "code",
   "execution_count": 44,
   "metadata": {
    "scrolled": true
   },
   "outputs": [
    {
     "data": {
      "text/plain": [
       "<matplotlib.axes._subplots.AxesSubplot at 0x1a184abf90>"
      ]
     },
     "execution_count": 44,
     "metadata": {},
     "output_type": "execute_result"
    },
    {
     "data": {
      "image/png": "[encoded data removed]",
      "text/plain": [
       "<Figure size 864x864 with 2 Axes>"
      ]
     },
     "metadata": {
      "needs_background": "light"
     },
     "output_type": "display_data"
    }
   ],
   "source": [
    "import seaborn as sns\n",
    "\n",
    "plt.figure(figsize=(12,12))\n",
    "sns.heatmap(tests_2017_2018.corr());"
   ]
  },
  {
   "cell_type": "code",
   "execution_count": 45,
   "metadata": {},
   "outputs": [
    {
     "data": {
      "image/png": "[encoded data removed]",
      "text/plain": [
       "<Figure size 1008x576 with 4 Axes>"
      ]
     },
     "metadata": {
      "needs_background": "light"
     },
     "output_type": "display_data"
    }
   ],
   "source": [
    "def subplot_histograms(dataframe, list_of_columns, list_of_titles, list_of_xlabels):\n",
    "    nrows = int(np.ceil(len(list_of_columns)/2))\n",
    "    fig, ax = plt.subplots(nrows=nrows, ncols=2, figsize=(14,8)) \n",
    "    ax = ax.ravel()\n",
    "    for i, column in enumerate(list_of_columns):\n",
    "        ax[i].hist(dataframe[column])\n",
    "        ax[i].set_xlabel(list_of_xlabels[i])\n",
    "        ax[i].set_title(list_of_titles[i])\n",
    "    fig.tight_layout()\n",
    "subplot_histograms(tests_2017_2018, ['composite_act17', 'composite_act18', 'total_sat17', 'total_sat18'], [\"ACT Average Scores 2017\", \"ACT Average Scores 2018\",\"SAT Average Scores 2017\", \"SAT Average Scores 2018\"],[\"Average Composite Score\",\"Average Composite Score\", \"Average Total Score\", \"Average Total Score\" ])"
   ]
  },
  {
   "cell_type": "code",
   "execution_count": 46,
   "metadata": {},
   "outputs": [
    {
     "data": {
      "image/png": "[encoded data removed]",
      "text/plain": [
       "<Figure size 1008x576 with 4 Axes>"
      ]
     },
     "metadata": {
      "needs_background": "light"
     },
     "output_type": "display_data"
    }
   ],
   "source": [
    "subplot_histograms(tests_2017_2018, ['math_act17', 'math_sat17', 'math_sat18'], \n",
    "                   [\"ACT Ave. Math Scores 2017\", \"SAT Ave. Math Scores 2017\", \"SAT Ave. Math Scores 2018\"],[\"\",\"\", \"\", \"\" ])"
   ]
  },
  {
   "cell_type": "code",
   "execution_count": 47,
   "metadata": {},
   "outputs": [
    {
     "data": {
      "image/png": "[encoded data removed]",
      "text/plain": [
       "<Figure size 1008x576 with 4 Axes>"
      ]
     },
     "metadata": {
      "needs_background": "light"
     },
     "output_type": "display_data"
    }
   ],
   "source": [
    "subplot_histograms(tests_2017_2018, ['reading_act17','english_act17', 'language_sat17', \n",
    "                                     'language_sat18'], \n",
    "                                    [\"ACT Average Reading Scores 2017\",\"ACT Average English Scores 2017\",\n",
    "                                     \"SAT Average Language Scores 2017\", \"SAT Average Language Scores 2018\"],\n",
    "                                    [\"\",\"\",\"\",\"\" ])"
   ]
  },
  {
   "cell_type": "code",
   "execution_count": 48,
   "metadata": {},
   "outputs": [
    {
     "data": {
      "image/png": "[encoded data removed]",
      "text/plain": [
       "<Figure size 1008x576 with 4 Axes>"
      ]
     },
     "metadata": {
      "needs_background": "light"
     },
     "output_type": "display_data"
    }
   ],
   "source": [
    "subplot_histograms(tests_2017_2018, ['participation_act17', 'participation_act18', 'participation_sat17', 'participation_sat18'], [\"ACT Participation Rates 2017\", \"ACT Participation Rates 2018\",\"SAT Participation Rates 2017\", \"SAT Participation Rates 2018\"],[\"\",\"\", \"\", \"\" ])"
   ]
  },
  {
   "cell_type": "code",
   "execution_count": 49,
   "metadata": {},
   "outputs": [
    {
     "data": {
      "image/png": "[encoded data removed]",
      "text/plain": [
       "<Figure size 1008x576 with 4 Axes>"
      ]
     },
     "metadata": {
      "needs_background": "light"
     },
     "output_type": "display_data"
    }
   ],
   "source": [
    "fig, ax = plt.subplots(nrows=2, ncols=2, figsize=(14,8)) # You'll want to specify your figsize\n",
    "\n",
    "sns.scatterplot(x=tests_2017_2018['math_sat17'], y=tests_2017_2018['math_act17'], ax=ax[0][0])\n",
    "ax[0][0].set_xlabel('SAT Math Scores')\n",
    "ax[0][0].set_ylabel('ACT Math Scores')\n",
    "ax[0][0].set_title('Math Scores 2017 SAT and ACT by State')\n",
    "#plt.legend(loc = 'upper left')\n",
    "\n",
    "sns.scatterplot(x=tests_2017_2018['language_sat17'], y=tests_2017_2018['reading_act17'], ax=ax[0][0])\n",
    "ax[0][0].set_xlabel('SAT Scores')\n",
    "ax[0][0].set_ylabel('ACT Scores')\n",
    "ax[0][0].set_title('Average Language and Math Scores - SAT and ACT by State - 2017')\n",
    "\n",
    "sns.scatterplot(x=tests_2017_2018['total_sat17'], y=tests_2017_2018['composite_act17'], ax=ax[0][1])\n",
    "ax[0][1].set_xlabel('SAT total Scores')\n",
    "ax[0][1].set_ylabel('ACT Composite Scores')\n",
    "ax[0][1].set_title('Scores total 2017 SAT and ACT by State')\n",
    "\n",
    "sns.regplot(x=tests_2017_2018['participation_sat17'], y=tests_2017_2018['participation_act17'], ax=ax[1][0])\n",
    "ax[1][0].set_xlabel('SAT participation')\n",
    "ax[1][0].set_ylabel('ACT participation')\n",
    "ax[1][0].set_title('participation 2017 SAT and ACT by State')\n",
    "\n",
    "sns.regplot(x=tests_2017_2018['participation_sat18'], y=tests_2017_2018['participation_act18'], ax=ax[1][0])\n",
    "ax[1][0].set_xlabel('SAT participation')\n",
    "ax[1][0].set_ylabel('ACT participation')\n",
    "ax[1][0].set_title('participation 2018 SAT and ACT by State')\n",
    "\n",
    "\n",
    "sns.scatterplot(x=tests_2017_2018['language_sat17'], y=tests_2017_2018['reading_act17'], ax=ax[1][1])\n",
    "ax[1][1].set_xlabel('SAT Language Scores')\n",
    "ax[1][1].set_ylabel('ACT Reading Scores')\n",
    "ax[1][1].set_title('Reading/Language Scores 2017 SAT and ACT by State')\n",
    "\n",
    "\n",
    "fig.tight_layout()"
   ]
  },
  {
   "cell_type": "code",
   "execution_count": 50,
   "metadata": {},
   "outputs": [
    {
     "data": {
      "image/png": "[encoded data removed]",
      "text/plain": [
       "<Figure size 720x504 with 1 Axes>"
      ]
     },
     "metadata": {
      "needs_background": "light"
     },
     "output_type": "display_data"
    }
   ],
   "source": [
    "fig, ax = plt.subplots(nrows=1, ncols=1, figsize=(10,7)) # You'll want to specify your figsize\n",
    "\n",
    "sns.scatterplot(x=tests_2017_2018['total_sat17'], y=tests_2017_2018['total_sat18'], ax=ax)\n",
    "ax.set_xlabel('SAT Scores 2017', size=16)\n",
    "ax.set_ylabel('SAT Scores 2018', size=16)\n",
    "ax.set_title('SAT Scores by State 2017 vs 2018', size=20)\n",
    "\n",
    "plt.savefig('SAT-scores_17-18.png')\n",
    "\n",
    "# sns.scatterplot(x=tests_2017_2018['participation_sat17'], y=tests_2017_2018['participation_sat18'], ax=ax)\n",
    "# ax.set_xlabel('SAT Scores 2017', size=16)\n",
    "# ax.set_ylabel('SAT Scores 2018', size=16)\n",
    "# ax.set_title('SAT Scores by State 2017 vs 2018', size=20)\n"
   ]
  },
  {
   "cell_type": "code",
   "execution_count": 51,
   "metadata": {},
   "outputs": [
    {
     "data": {
      "image/png": "[encoded data removed]",
      "text/plain": [
       "<Figure size 720x504 with 1 Axes>"
      ]
     },
     "metadata": {
      "needs_background": "light"
     },
     "output_type": "display_data"
    }
   ],
   "source": [
    "fig, ax = plt.subplots(nrows=1, ncols=1, figsize=(10,7)) # You'll want to specify your figsize\n",
    "\n",
    "sns.regplot(x=tests_2017_2018['participation_sat18'], y=tests_2017_2018['participation_act18'], ax=ax)\n",
    "ax.set_xlabel('SAT Participation', size=16)\n",
    "ax.set_ylabel('ACT Participation', size=16)\n",
    "ax.set_title('State Participation in SAT vs ACT 2018', size=20)\n",
    "\n",
    "plt.savefig('SAT-act-participation.png')\n"
   ]
  },
  {
   "cell_type": "code",
   "execution_count": 52,
   "metadata": {},
   "outputs": [
    {
     "data": {
      "text/plain": [
       "Text(0.5, 1.0, 'ACT Scores by State 2017 vs 2018')"
      ]
     },
     "execution_count": 52,
     "metadata": {},
     "output_type": "execute_result"
    },
    {
     "data": {
      "image/png": "[encoded data removed]",
      "text/plain": [
       "<Figure size 720x504 with 1 Axes>"
      ]
     },
     "metadata": {
      "needs_background": "light"
     },
     "output_type": "display_data"
    }
   ],
   "source": [
    "fig, ax = plt.subplots(nrows=1, ncols=1, figsize=(10,7)) # You'll want to specify your figsize\n",
    "sns.scatterplot(x=tests_2017_2018['composite_act17'], y=tests_2017_2018['composite_act18'], ax=ax)\n",
    "ax.set_xlabel('ACT Scores 2017')\n",
    "ax.set_ylabel('ACT Scores 2018')\n",
    "ax.set_title('ACT Scores by State 2017 vs 2018')"
   ]
  },
  {
   "cell_type": "code",
   "execution_count": 53,
   "metadata": {},
   "outputs": [
    {
     "data": {
      "image/png": "[encoded data removed]",
      "text/plain": [
       "<Figure size 864x504 with 1 Axes>"
      ]
     },
     "metadata": {
      "needs_background": "light"
     },
     "output_type": "display_data"
    }
   ],
   "source": [
    "fig, ax = plt.subplots(nrows=1, ncols=1, figsize=(12,7)) # You'll want to specify your figsize\n",
    "\n",
    "sns.regplot(x=tests_2017_2018['participation_sat17'], y=tests_2017_2018['participation_act17'], ax=ax, label=\"2017\")\n",
    "ax.set_xlabel('SAT participation')\n",
    "ax.set_ylabel('ACT participation')\n",
    "ax.set_title('participation 2017 SAT and ACT by State')\n",
    "plt.legend(loc = 'upper right')\n",
    "\n",
    "sns.regplot(x=tests_2017_2018['participation_sat18'], y=tests_2017_2018['participation_act18'], ax=ax, label=\"2018\")\n",
    "ax.set_xlabel('SAT participation', size=16)\n",
    "ax.set_ylabel('ACT participation', size=16)\n",
    "ax.set_title('State Participation in SAT and ACT for 2017 and 2018', size=20)\n",
    "plt.legend(loc = 'upper right')\n",
    "\n",
    "\n",
    "fig.tight_layout()\n",
    "plt.savefig('participation-comparison.png')"
   ]
  },
  {
   "cell_type": "code",
   "execution_count": 54,
   "metadata": {},
   "outputs": [
    {
     "data": {
      "image/png": "[encoded data removed]",
      "text/plain": [
       "<Figure size 864x504 with 1 Axes>"
      ]
     },
     "metadata": {
      "needs_background": "light"
     },
     "output_type": "display_data"
    }
   ],
   "source": [
    "fig, ax = plt.subplots(nrows=1, ncols=1, figsize=(12,7)) # You'll want to specify your figsize\n",
    "\n",
    "sns.regplot(x=tests_2017_2018['participation_sat18'], y=tests_2017_2018['total_sat18'], ax=ax, label=\"2018\")\n",
    "ax.set_xlabel('SAT participation', size=16)\n",
    "ax.set_ylabel('SAT Score', size=16)\n",
    "ax.set_title('State Participation vs Scores in SAT  2018', size=20)\n",
    "plt.legend(loc = 'upper right')\n",
    "\n",
    "\n",
    "fig.tight_layout()\n",
    "plt.savefig('participation-score-sat.png')"
   ]
  },
  {
   "cell_type": "code",
   "execution_count": 55,
   "metadata": {},
   "outputs": [
    {
     "data": {
      "text/html": [
       "<div>\n",
       "<style scoped>\n",
       "    .dataframe tbody tr th:only-of-type {\n",
       "        vertical-align: middle;\n",
       "    }\n",
       "\n",
       "    .dataframe tbody tr th {\n",
       "        vertical-align: top;\n",
       "    }\n",
       "\n",
       "    .dataframe thead th {\n",
       "        text-align: right;\n",
       "    }\n",
       "</style>\n",
       "<table border=\"1\" class=\"dataframe\">\n",
       "  <thead>\n",
       "    <tr style=\"text-align: right;\">\n",
       "      <th></th>\n",
       "      <th>state</th>\n",
       "      <th>total_sat17</th>\n",
       "      <th>total_sat18</th>\n",
       "    </tr>\n",
       "  </thead>\n",
       "  <tbody>\n",
       "    <tr>\n",
       "      <th>5</th>\n",
       "      <td>Colorado</td>\n",
       "      <td>1201</td>\n",
       "      <td>1025</td>\n",
       "    </tr>\n",
       "    <tr>\n",
       "      <th>43</th>\n",
       "      <td>Utah</td>\n",
       "      <td>1238</td>\n",
       "      <td>1010</td>\n",
       "    </tr>\n",
       "  </tbody>\n",
       "</table>\n",
       "</div>"
      ],
      "text/plain": [
       "       state  total_sat17  total_sat18\n",
       "5   Colorado         1201         1025\n",
       "43      Utah         1238         1010"
      ]
     },
     "execution_count": 55,
     "metadata": {},
     "output_type": "execute_result"
    }
   ],
   "source": [
    "mask = ((tests_2017_2018['total_sat17'] >= 1200) & (tests_2017_2018['total_sat17'] <= 1250)) & ((tests_2017_2018['total_sat18'] <= 1050))\n",
    "tests_2017_2018.loc[mask,['state','total_sat17','total_sat18']]"
   ]
  },
  {
   "cell_type": "code",
   "execution_count": 56,
   "metadata": {},
   "outputs": [
    {
     "data": {
      "text/html": [
       "<div>\n",
       "<style scoped>\n",
       "    .dataframe tbody tr th:only-of-type {\n",
       "        vertical-align: middle;\n",
       "    }\n",
       "\n",
       "    .dataframe tbody tr th {\n",
       "        vertical-align: top;\n",
       "    }\n",
       "\n",
       "    .dataframe thead th {\n",
       "        text-align: right;\n",
       "    }\n",
       "</style>\n",
       "<table border=\"1\" class=\"dataframe\">\n",
       "  <thead>\n",
       "    <tr style=\"text-align: right;\">\n",
       "      <th></th>\n",
       "      <th>state</th>\n",
       "      <th>participation_sat17</th>\n",
       "      <th>participation_sat18</th>\n",
       "      <th>participation_act17</th>\n",
       "      <th>participation_act18</th>\n",
       "    </tr>\n",
       "  </thead>\n",
       "  <tbody>\n",
       "    <tr>\n",
       "      <th>1</th>\n",
       "      <td>Alaska</td>\n",
       "      <td>0.38</td>\n",
       "      <td>0.43</td>\n",
       "      <td>0.65</td>\n",
       "      <td>0.33</td>\n",
       "    </tr>\n",
       "    <tr>\n",
       "      <th>36</th>\n",
       "      <td>Oregon</td>\n",
       "      <td>0.43</td>\n",
       "      <td>0.48</td>\n",
       "      <td>0.40</td>\n",
       "      <td>0.42</td>\n",
       "    </tr>\n",
       "  </tbody>\n",
       "</table>\n",
       "</div>"
      ],
      "text/plain": [
       "     state  participation_sat17  participation_sat18  participation_act17  \\\n",
       "1   Alaska                 0.38                 0.43                 0.65   \n",
       "36  Oregon                 0.43                 0.48                 0.40   \n",
       "\n",
       "    participation_act18  \n",
       "1                  0.33  \n",
       "36                 0.42  "
      ]
     },
     "execution_count": 56,
     "metadata": {},
     "output_type": "execute_result"
    }
   ],
   "source": [
    "mask = (tests_2017_2018['participation_act18'] < .7) & (tests_2017_2018['participation_sat18'] > .4) & (tests_2017_2018['participation_sat18'] < .60) & (tests_2017_2018['participation_sat17'] < tests_2017_2018['participation_sat18'])\n",
    "tests_2017_2018.loc[mask,['state','participation_sat17','participation_sat18','participation_act17', 'participation_act18']].sort_values(by='participation_sat18')"
   ]
  },
  {
   "cell_type": "code",
   "execution_count": 57,
   "metadata": {},
   "outputs": [],
   "source": [
    "# tests_2017_2018.loc[:,['state','composite_act17','composite_act18', \n",
    "#                        'total_sat17', 'total_sat18', 'participation_act17', 'participation_sat17',\n",
    "#                        'participation_act18',\n",
    "#                        'participation_sat18']].sort_values(by='participation_act17')"
   ]
  },
  {
   "cell_type": "markdown",
   "metadata": {},
   "source": [
    "#### Plot and interpret boxplots\n",
    "\n",
    "For each numeric variable in the dataframe create a boxplot using Seaborn. Boxplots demonstrate central tendency and spread in variables. In a certain sense, these are somewhat redundant with histograms, but you may be better able to identify clear outliers or differences in IQR, etc.\n",
    "\n",
    "Multiple values can be plotted to a single boxplot as long as they are of the same relative scale (meaning they have similar min/max values).\n",
    "\n",
    "Each boxplot should:\n",
    "- Only include variables of a similar scale\n",
    "- Have clear labels for each variable\n",
    "- Have appropriate titles and labels"
   ]
  },
  {
   "cell_type": "code",
   "execution_count": 67,
   "metadata": {},
   "outputs": [
    {
     "data": {
      "image/png": "[encoded data removed]",
      "text/plain": [
       "<Figure size 864x1296 with 12 Axes>"
      ]
     },
     "metadata": {
      "needs_background": "light"
     },
     "output_type": "display_data"
    }
   ],
   "source": [
    "fig, ax = plt.subplots(nrows=6, ncols=2, figsize=(12,18)) # You'll want to specify your figsize\n",
    "\n",
    "sns.boxplot(tests_2017_2018[\"total_sat17\"], ax=ax[0][0])\n",
    "ax[0][0].set_title('total_sat17')\n",
    "\n",
    "sns.boxplot(tests_2017_2018[\"total_sat18\"], ax=ax[0][1])\n",
    "ax[0][1].set_title('total_sat18')\n",
    "\n",
    "sns.boxplot(tests_2017_2018[\"composite_act17\"], ax=ax[1][0])\n",
    "ax[1][0].set_title('composite_act17')\n",
    "\n",
    "sns.boxplot(tests_2017_2018[\"composite_act18\"], ax=ax[1][1])\n",
    "ax[1][1].set_title('composite_act18')\n",
    "\n",
    "sns.boxplot(tests_2017_2018[\"math_sat17\"], ax=ax[2][0])\n",
    "ax[2][0].set_title('math_sat17')\n",
    "\n",
    "sns.boxplot(tests_2017_2018[\"language_sat17\"],ax=ax[2][1])\n",
    "ax[2][1].set_title('language_sat17')\n",
    "\n",
    "sns.boxplot(tests_2017_2018[\"math_sat18\"], ax=ax[3][0])\n",
    "ax[3][0].set_title('math_sat18')\n",
    "\n",
    "sns.boxplot(tests_2017_2018[\"language_sat18\"], ax=ax[3][1])\n",
    "ax[3][1].set_title('language_sat18')\n",
    "\n",
    "sns.boxplot(tests_2017_2018[\"math_act17\"], ax=ax[4][0])\n",
    "ax[4][0].set_title('math_act17')\n",
    "\n",
    "sns.boxplot(tests_2017_2018[\"reading_act17\"], ax=ax[4][1])\n",
    "ax[4][1].set_title('reading_act17')\n",
    "\n",
    "sns.boxplot(tests_2017_2018[\"english_act17\"], ax=ax[5][0])\n",
    "ax[5][0].set_title('english_act17')\n",
    "\n",
    "fig.tight_layout();"
   ]
  },
  {
   "cell_type": "markdown",
   "metadata": {},
   "source": [
    "## Outside Research"
   ]
  },
  {
   "cell_type": "markdown",
   "metadata": {},
   "source": [
    "California, Oregon, Alaska don't have exceedingly strong participation in either test (broadly around 50% for each), but they do all have traction for SAT participation (~40-60% participation) and an increase in SAT participation (by 5-7%) for 2017-2018. This makes them sensible targets of focus for states in which we might try to increase percentage participation. California, being the largest of these three states by far, could have the greatest return on investment. Because California is a left leaning and very diverse state, the College Board should keep up a strong focus on equity and inclusion, evolving the test to be less biased toward students of a certain background, and fair access and incentives for underserved communities."
   ]
  },
  {
   "cell_type": "markdown",
   "metadata": {},
   "source": [
    "## Conclusions and Recommendations"
   ]
  },
  {
   "cell_type": "markdown",
   "metadata": {},
   "source": [
    "-There's an inverse relationship between participation rates and test scores. Makes sense, many states make the tests madatory, resulting in a higher participation rate, reducing the opt-in bias that is probably responsible for high scores in states with low participation.\n",
    "\n",
    "-There is a large spread in participation rates for both tests, with some states participating 100% and others below 10%, and some states had a huge change in participation rate due to policy and contracts between states and the College Board\n",
    "\n",
    "-States tend to be polarized on which test they participate in. It makes sense to focus on getting 'market share' in states that have not yet chosen either the ACT or SAT. California is a great example of a potential high impact focus for increasing test takers. CA had an increase in SAT participation from 2017-2018 to 60%, and because it has such a huge population, there's a lot to gain from increasing statewide participation. Because CA is a diverse and left leaning state, and because it's the right thing to do, the College board should focus on fairness, access and inclusion for a culturally, linguistically and economically diverse population.\n"
   ]
  }
 ],
 "metadata": {
  "anaconda-cloud": {},
  "kernelspec": {
   "display_name": "Python 3",
   "language": "python",
   "name": "python3"
  },
  "language_info": {
   "codemirror_mode": {
    "name": "ipython",
    "version": 3
   },
   "file_extension": ".py",
   "mimetype": "text/x-python",
   "name": "python",
   "nbconvert_exporter": "python",
   "pygments_lexer": "ipython3",
   "version": "3.7.4"
  }
 },
 "nbformat": 4,
 "nbformat_minor": 2
}
